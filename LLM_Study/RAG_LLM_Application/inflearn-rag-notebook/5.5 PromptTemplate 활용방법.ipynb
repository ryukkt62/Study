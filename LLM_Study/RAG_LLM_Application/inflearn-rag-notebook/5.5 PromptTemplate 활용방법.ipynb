{
 "cells": [
  {
   "cell_type": "markdown",
   "metadata": {},
   "source": [
    "# 5.5 PromptTemplate 활용방법\n",
    "\n",
    "- PromptTemplate을 활용해서 `LangChain` 스럽게 활용하는 방법을 알아봅니다"
   ]
  },
  {
   "cell_type": "markdown",
   "metadata": {},
   "source": [
    "## 환경변수 불러오기\n",
    "\n",
    "- `.env` 파일에 `OPENAI_API_KEY` 등록"
   ]
  },
  {
   "cell_type": "code",
   "execution_count": 1,
   "metadata": {},
   "outputs": [
    {
     "data": {
      "text/plain": [
       "True"
      ]
     },
     "execution_count": 1,
     "metadata": {},
     "output_type": "execute_result"
    }
   ],
   "source": [
    "from dotenv import load_dotenv\n",
    "\n",
    "load_dotenv()"
   ]
  },
  {
   "cell_type": "markdown",
   "metadata": {},
   "source": [
    "## LLM을 활용한 답변 생성\n",
    "\n",
    "- `ChatOpenAI` 모델을 활용해서 답변을 생성합니다\n",
    "  - `ChatAzureOpenAI`, `ChatAnthropic`, `ChatBedrock` 등 다양한 모델을 활용할 수 있습니다"
   ]
  },
  {
   "cell_type": "code",
   "execution_count": 2,
   "metadata": {},
   "outputs": [],
   "source": [
    "from langchain_openai import ChatOpenAI\n",
    "\n",
    "llm = ChatOpenAI(model='gpt-4o-mini', temperature=0)\n",
    "question = '인프런에는 어떤 강의가 있나요?'\n",
    "# llm.invoke(question)"
   ]
  },
  {
   "cell_type": "code",
   "execution_count": 3,
   "metadata": {},
   "outputs": [
    {
     "data": {
      "text/plain": [
       "AIMessage(content='인프런은 다양한 주제의 온라인 강의를 제공하는 플랫폼입니다. 주로 IT, 프로그래밍, 데이터 분석, 디자인, 마케팅, 비즈니스 등 여러 분야의 강의가 있습니다. 예를 들어, 웹 개발, 모바일 앱 개발, 머신러닝, 데이터베이스, UX/UI 디자인, 디지털 마케팅, 그리고 자기계발 관련 강의 등이 포함되어 있습니다. 각 강의는 전문가들이 진행하며, 수강생들이 실습할 수 있는 자료와 커뮤니티 지원도 제공됩니다. 구체적인 강의 내용은 인프런 웹사이트에서 확인할 수 있습니다.', additional_kwargs={'refusal': None}, response_metadata={'token_usage': {'completion_tokens': 131, 'prompt_tokens': 26, 'total_tokens': 157, 'completion_tokens_details': {'audio_tokens': 0, 'reasoning_tokens': 0, 'accepted_prediction_tokens': 0, 'rejected_prediction_tokens': 0}, 'prompt_tokens_details': {'audio_tokens': 0, 'cached_tokens': 0}}, 'model_name': 'gpt-4o-mini-2024-07-18', 'system_fingerprint': 'fp_72ed7ab54c', 'finish_reason': 'stop', 'logprobs': None}, id='run-9e6296bc-1040-4d67-b92e-83cdce730a84-0', usage_metadata={'input_tokens': 26, 'output_tokens': 131, 'total_tokens': 157, 'input_token_details': {'audio': 0, 'cache_read': 0}, 'output_token_details': {'audio': 0, 'reasoning': 0}})"
      ]
     },
     "execution_count": 3,
     "metadata": {},
     "output_type": "execute_result"
    }
   ],
   "source": [
    "text_prompt = f'아래 질문에 답변해주세요:\\n\\n {question}'\n",
    "llm.invoke(text_prompt)"
   ]
  },
  {
   "cell_type": "markdown",
   "metadata": {},
   "source": [
    "### PromptTemplate 활용\n",
    "\n",
    "- 텍스트를 활용한 `invoke`와 `PromptTemplate`을 활용한 `invoke`의 차이를 알아봅니다"
   ]
  },
  {
   "cell_type": "code",
   "execution_count": 4,
   "metadata": {},
   "outputs": [
    {
     "data": {
      "text/plain": [
       "StringPromptValue(text='아래 질문에 답변해주세요:\\n\\n 인프런에는 어떤 강의가 있나요?')"
      ]
     },
     "execution_count": 4,
     "metadata": {},
     "output_type": "execute_result"
    }
   ],
   "source": [
    "from langchain_core.prompts import PromptTemplate\n",
    "\n",
    "prompt_with_template = '아래 질문에 답변해주세요:\\n\\n {question}'\n",
    "\n",
    "prompt_template = PromptTemplate(template=prompt_with_template, input_variables=[\"question\"])\n",
    "prompt_template.invoke({\"question\": question})"
   ]
  },
  {
   "cell_type": "code",
   "execution_count": 5,
   "metadata": {},
   "outputs": [
    {
     "data": {
      "text/plain": [
       "AIMessage(content='인프런은 다양한 주제의 온라인 강의를 제공하는 플랫폼으로, 주로 IT, 프로그래밍, 데이터 분석, 디자인, 마케팅 등 여러 분야의 강의를 포함하고 있습니다. 예를 들어, 다음과 같은 강의들이 있습니다:\\n\\n1. **프로그래밍**: Python, Java, JavaScript, C++, Ruby 등 다양한 프로그래밍 언어에 대한 강의.\\n2. **웹 개발**: HTML, CSS, React, Vue.js, Node.js 등을 활용한 웹 개발 강의.\\n3. **데이터 분석**: 데이터 시각화, 머신러닝, 데이터베이스(SQL) 관련 강의.\\n4. **모바일 개발**: iOS, Android 앱 개발 관련 강의.\\n5. **디자인**: UI/UX 디자인, 그래픽 디자인, 포토샵, 일러스트레이터 강의.\\n6. **마케팅**: 디지털 마케팅, SEO, 소셜 미디어 마케팅 관련 강의.\\n\\n각 강의는 초급부터 고급까지 다양한 수준으로 제공되며, 실습 중심의 강의도 많아 실제 프로젝트에 적용할 수 있는 내용을 배울 수 있습니다. 인프런 웹사이트를 방문하면 더 많은 강의와 상세 정보를 확인할 수 있습니다.', additional_kwargs={'refusal': None}, response_metadata={'token_usage': {'completion_tokens': 266, 'prompt_tokens': 26, 'total_tokens': 292, 'completion_tokens_details': {'audio_tokens': 0, 'reasoning_tokens': 0, 'accepted_prediction_tokens': 0, 'rejected_prediction_tokens': 0}, 'prompt_tokens_details': {'audio_tokens': 0, 'cached_tokens': 0}}, 'model_name': 'gpt-4o-mini-2024-07-18', 'system_fingerprint': 'fp_72ed7ab54c', 'finish_reason': 'stop', 'logprobs': None}, id='run-3dd520f2-5eda-4404-92eb-a5b7f0420633-0', usage_metadata={'input_tokens': 26, 'output_tokens': 266, 'total_tokens': 292, 'input_token_details': {'audio': 0, 'cache_read': 0}, 'output_token_details': {'audio': 0, 'reasoning': 0}})"
      ]
     },
     "execution_count": 5,
     "metadata": {},
     "output_type": "execute_result"
    }
   ],
   "source": [
    "llm.invoke(prompt_template.invoke({\"question\": question}))"
   ]
  },
  {
   "cell_type": "markdown",
   "metadata": {},
   "source": [
    "## Chain 구성\n",
    "\n",
    "- `PromptTemplate`을 활용하면 LCEL 문법을 활용해서 chain을 구성할 수 있습니다"
   ]
  },
  {
   "cell_type": "code",
   "execution_count": 6,
   "metadata": {},
   "outputs": [
    {
     "data": {
      "text/plain": [
       "AIMessage(content='인프런은 다양한 주제의 온라인 강의를 제공하는 플랫폼입니다. 주로 IT, 프로그래밍, 데이터 분석, 디자인, 마케팅, 비즈니스 등 여러 분야의 강의가 있습니다. 예를 들어, 웹 개발, 모바일 앱 개발, 머신러닝, 데이터베이스, UX/UI 디자인, 디지털 마케팅, 그리고 자기계발 관련 강의 등이 포함되어 있습니다. 각 강의는 전문가들이 진행하며, 수강생들이 실습을 통해 배울 수 있도록 구성되어 있습니다. 특정 강의에 대한 정보는 인프런 웹사이트를 방문하여 확인할 수 있습니다.', additional_kwargs={'refusal': None}, response_metadata={'token_usage': {'completion_tokens': 130, 'prompt_tokens': 26, 'total_tokens': 156, 'completion_tokens_details': {'audio_tokens': 0, 'reasoning_tokens': 0, 'accepted_prediction_tokens': 0, 'rejected_prediction_tokens': 0}, 'prompt_tokens_details': {'audio_tokens': 0, 'cached_tokens': 0}}, 'model_name': 'gpt-4o-mini-2024-07-18', 'system_fingerprint': 'fp_72ed7ab54c', 'finish_reason': 'stop', 'logprobs': None}, id='run-2dc3d212-17b5-4b50-9048-3de4ad7b835f-0', usage_metadata={'input_tokens': 26, 'output_tokens': 130, 'total_tokens': 156, 'input_token_details': {'audio': 0, 'cache_read': 0}, 'output_token_details': {'audio': 0, 'reasoning': 0}})"
      ]
     },
     "execution_count": 6,
     "metadata": {},
     "output_type": "execute_result"
    }
   ],
   "source": [
    "prompt_chain = prompt_template | llm\n",
    "prompt_chain.invoke({\"question\": question})"
   ]
  },
  {
   "cell_type": "markdown",
   "metadata": {},
   "source": [
    "## RAG 구성\n",
    "\n",
    "- `WebBaseLoader`를 활용해서 웹 페이지를 로드합니다\n",
    "- `RecursiveCharacterTextSplitter`를 활용해서 텍스트를 청크로 분할합니다\n",
    "- `Chroma`를 활용해서 청크를 데이터베이스에 저장합니다\n",
    "- `OpenAIEmbeddings`를 활용해서 청크를 임베딩합니다\n",
    "- `Chroma`를 활용해서 임베딩된 청크를 검색합니다\n",
    "- `RAG` 구성을 활용해서 답변을 생성합니다\n"
   ]
  },
  {
   "cell_type": "code",
   "execution_count": 7,
   "metadata": {},
   "outputs": [
    {
     "name": "stdout",
     "output_type": "stream",
     "text": [
      "\n",
      "\u001b[1m[\u001b[0m\u001b[34;49mnotice\u001b[0m\u001b[1;39;49m]\u001b[0m\u001b[39;49m A new release of pip is available: \u001b[0m\u001b[31;49m23.0.1\u001b[0m\u001b[39;49m -> \u001b[0m\u001b[32;49m24.3.1\u001b[0m\n",
      "\u001b[1m[\u001b[0m\u001b[34;49mnotice\u001b[0m\u001b[1;39;49m]\u001b[0m\u001b[39;49m To update, run: \u001b[0m\u001b[32;49mpip install --upgrade pip\u001b[0m\n",
      "Note: you may need to restart the kernel to use updated packages.\n"
     ]
    }
   ],
   "source": [
    "%pip install -qU beautifulsoup4"
   ]
  },
  {
   "cell_type": "code",
   "execution_count": 8,
   "metadata": {},
   "outputs": [
    {
     "name": "stderr",
     "output_type": "stream",
     "text": [
      "USER_AGENT environment variable not set, consider setting it to identify your requests.\n"
     ]
    }
   ],
   "source": [
    "from langchain_community.document_loaders import WebBaseLoader\n",
    "\n",
    "loader = WebBaseLoader('https://www.inflearn.com/courses/it-programming?isDiscounted=false&types=&sort=')"
   ]
  },
  {
   "cell_type": "code",
   "execution_count": 9,
   "metadata": {},
   "outputs": [],
   "source": [
    "from langchain_text_splitters import RecursiveCharacterTextSplitter\n",
    "\n",
    "text_splitter = RecursiveCharacterTextSplitter(\n",
    "    chunk_size=1500,\n",
    "    chunk_overlap=200,\n",
    ")\n",
    "document_list = loader.load_and_split(text_splitter)"
   ]
  },
  {
   "cell_type": "code",
   "execution_count": 10,
   "metadata": {},
   "outputs": [],
   "source": [
    "from langchain_chroma import Chroma\n",
    "from langchain_openai import OpenAIEmbeddings\n",
    "\n",
    "embedding = OpenAIEmbeddings(model='text-embedding-3-large')\n",
    "\n",
    "database = Chroma.from_documents(\n",
    "    documents=document_list,\n",
    "    embedding=embedding,\n",
    "    collection_name='inflearn-lectures',\n",
    "    persist_directory=\"./inflearn-lectures\"\n",
    ")"
   ]
  },
  {
   "cell_type": "code",
   "execution_count": 12,
   "metadata": {},
   "outputs": [
    {
     "data": {
      "text/plain": [
       "[Document(metadata={'description': '개발 · 프로그래밍 강의에 관심이 있다면 지금 당장 시작하세요! 인프런은 언제나 당신의 성장을 응원합니다.', 'language': 'ko', 'source': 'https://www.inflearn.com/courses/it-programming?isDiscounted=false&types=&sort=', 'title': '개발 · 프로그래밍 강의 리스트 | 인프런'}, page_content='개발 · 프로그래밍 강의 리스트 | 인프런개발 · 프로그래밍 강의 리스트 | 인프런검색검색전체전체개발 · 프로그래밍개발 · 프로그래밍게임 개발게임 개발데이터 사이언스데이터 사이언스인공지능인공지능보안 · 네트워크보안 · 네트워크하드웨어하드웨어디자인 · 아트디자인 · 아트기획 · 경영 · 마케팅기획 · 경영 · 마케팅업무 생산성업무 생산성커리어 · 자기계발커리어 · 자기계발대학 교육대학 교육전체웹 개발프론트엔드백엔드풀스택모바일 앱 개발프로그래밍 언어알고리즘 · 자료구조데이터베이스데브옵스 · 인프라소프트웨어 테스트개발 도구웹 퍼블리싱데스크톱 앱 개발VR/AR개발 · 프로그래밍 자격증개발 · 프로그래밍 기타기술 검색기술 검색필터0000모임/부트캠프강의 리스트')]"
      ]
     },
     "execution_count": 12,
     "metadata": {},
     "output_type": "execute_result"
    }
   ],
   "source": [
    "retriever = database.as_retriever(search_kwargs={'k': 1})\n",
    "retriever.invoke(question)\n",
    "retrieved_docs = retriever.invoke(question)\n",
    "retrieved_docs\n"
   ]
  },
  {
   "cell_type": "markdown",
   "metadata": {},
   "source": [
    "- `PromptTemplate`의 중괄호에 있는 변수들을 dictionary의 key로 활용해서 `invoke()` 함수를 호출할 수 있습니다"
   ]
  },
  {
   "cell_type": "code",
   "execution_count": 13,
   "metadata": {},
   "outputs": [
    {
     "data": {
      "text/plain": [
       "AIMessage(content='인프런에는 다양한 개발 및 프로그래밍 강의가 있습니다. 주요 카테고리는 다음과 같습니다:\\n\\n- 웹 개발 (프론트엔드, 백엔드, 풀스택)\\n- 모바일 앱 개발\\n- 게임 개발\\n- 데이터 사이언스\\n- 인공지능\\n- 보안 및 네트워크\\n- 하드웨어\\n- 디자인 및 아트\\n- 기획, 경영, 마케팅\\n- 업무 생산성\\n- 커리어 및 자기계발\\n- 대학 교육\\n- 프로그래밍 언어\\n- 알고리즘 및 자료구조\\n- 데이터베이스\\n- 데브옵스 및 인프라\\n- 소프트웨어 테스트\\n- 개발 도구\\n- 웹 퍼블리싱\\n- 데스크톱 앱 개발\\n- VR/AR\\n- 개발 · 프로그래밍 자격증\\n- 기타 개발 · 프로그래밍 관련 강의\\n\\n이 외에도 다양한 주제의 강의가 제공되고 있으니, 관심 있는 분야의 강의를 찾아보시면 좋습니다.', additional_kwargs={'refusal': None}, response_metadata={'token_usage': {'completion_tokens': 220, 'prompt_tokens': 379, 'total_tokens': 599, 'completion_tokens_details': {'audio_tokens': 0, 'reasoning_tokens': 0, 'accepted_prediction_tokens': 0, 'rejected_prediction_tokens': 0}, 'prompt_tokens_details': {'audio_tokens': 0, 'cached_tokens': 0}}, 'model_name': 'gpt-4o-mini-2024-07-18', 'system_fingerprint': 'fp_72ed7ab54c', 'finish_reason': 'stop', 'logprobs': None}, id='run-158b5478-13c7-4060-bece-9a6e557348e5-0', usage_metadata={'input_tokens': 379, 'output_tokens': 220, 'total_tokens': 599, 'input_token_details': {'audio': 0, 'cache_read': 0}, 'output_token_details': {'audio': 0, 'reasoning': 0}})"
      ]
     },
     "execution_count": 13,
     "metadata": {},
     "output_type": "execute_result"
    }
   ],
   "source": [
    "rag_prompt_template = PromptTemplate(\n",
    "    template='''\n",
    "    You are a helpful assistant that can answer questions about the Inflearn website.\n",
    "    You are given the following context:\n",
    "    {context}\n",
    "    Question: {question}\n",
    "    ''',\n",
    "    input_variables=[\"context\", \"question\"]\n",
    ")\n",
    "rag_chain = rag_prompt_template | llm\n",
    "rag_chain.invoke({\"context\": retrieved_docs, \"question\": question})"
   ]
  },
  {
   "cell_type": "markdown",
   "metadata": {},
   "source": [
    "## LangChain Hub 활용\n",
    "\n",
    "- `LangChain Hub`를 활용해서 미리 정의된 `PromptTemplate`을 활용할 수 있습니다\n",
    "- `hub.pull()` 함수를 활용해서 `PromptTemplate`을 불러올 수 있습니다"
   ]
  },
  {
   "cell_type": "code",
   "execution_count": 16,
   "metadata": {},
   "outputs": [],
   "source": [
    "# set the LANGSMITH_API_KEY environment variable (create key in settings)\n",
    "from langchain import hub\n",
    "rlm_rag_prompt = hub.pull(\"rlm/rag-prompt\")"
   ]
  },
  {
   "cell_type": "code",
   "execution_count": 17,
   "metadata": {},
   "outputs": [
    {
     "data": {
      "text/plain": [
       "AIMessage(content='인프런에는 개발 및 프로그래밍 관련 다양한 강의가 있습니다. 강의 주제로는 웹 개발, 게임 개발, 데이터 사이언스, 인공지능, 보안, 디자인, 경영 등이 포함됩니다. 각 분야별로 프론트엔드, 백엔드, 모바일 앱 개발 등 세부 강의도 제공됩니다.', additional_kwargs={'refusal': None}, response_metadata={'token_usage': {'completion_tokens': 74, 'prompt_tokens': 403, 'total_tokens': 477, 'completion_tokens_details': {'audio_tokens': 0, 'reasoning_tokens': 0, 'accepted_prediction_tokens': 0, 'rejected_prediction_tokens': 0}, 'prompt_tokens_details': {'audio_tokens': 0, 'cached_tokens': 0}}, 'model_name': 'gpt-4o-mini-2024-07-18', 'system_fingerprint': 'fp_72ed7ab54c', 'finish_reason': 'stop', 'logprobs': None}, id='run-e9eec8ba-d2f6-4743-b82d-1846a60d9a75-0', usage_metadata={'input_tokens': 403, 'output_tokens': 74, 'total_tokens': 477, 'input_token_details': {'audio': 0, 'cache_read': 0}, 'output_token_details': {'audio': 0, 'reasoning': 0}})"
      ]
     },
     "execution_count": 17,
     "metadata": {},
     "output_type": "execute_result"
    }
   ],
   "source": [
    "rlm_rag_chain = rlm_rag_prompt | llm\n",
    "rlm_rag_chain.invoke({\"context\": retrieved_docs, \"question\": question})\n"
   ]
  },
  {
   "cell_type": "markdown",
   "metadata": {},
   "source": [
    "## RunnablePassthrough 활용\n",
    "\n",
    "- `RunnablePassthrough`를 활용해서 특정 변수를 파이프라인에 포함시킬 수 있습니다\n",
    "- `RunnablePassthrough`는 파이프라인에 포함되지 않고 그대로 전달됩니다"
   ]
  },
  {
   "cell_type": "code",
   "execution_count": 20,
   "metadata": {},
   "outputs": [
    {
     "data": {
      "text/plain": [
       "AIMessage(content='인프런에는 개발 및 프로그래밍 관련 다양한 강의가 있습니다. 강의 주제로는 웹 개발, 게임 개발, 데이터 사이언스, 인공지능, 보안, 하드웨어 등이 포함됩니다. 또한, 프로그래밍 언어, 알고리즘, 데이터베이스 등도 다루고 있습니다.', additional_kwargs={'refusal': None}, response_metadata={'token_usage': {'completion_tokens': 69, 'prompt_tokens': 403, 'total_tokens': 472, 'completion_tokens_details': {'audio_tokens': 0, 'reasoning_tokens': 0, 'accepted_prediction_tokens': 0, 'rejected_prediction_tokens': 0}, 'prompt_tokens_details': {'audio_tokens': 0, 'cached_tokens': 0}}, 'model_name': 'gpt-4o-mini-2024-07-18', 'system_fingerprint': 'fp_72ed7ab54c', 'finish_reason': 'stop', 'logprobs': None}, id='run-f48c98c1-db85-4789-9981-7aa9579f0f84-0', usage_metadata={'input_tokens': 403, 'output_tokens': 69, 'total_tokens': 472, 'input_token_details': {'audio': 0, 'cache_read': 0}, 'output_token_details': {'audio': 0, 'reasoning': 0}})"
      ]
     },
     "execution_count": 20,
     "metadata": {},
     "output_type": "execute_result"
    }
   ],
   "source": [
    "from langchain_core.runnables import RunnablePassthrough\n",
    "\n",
    "rag_chain = (\n",
    "    {\"context\": retriever, \"question\": RunnablePassthrough()}\n",
    "    | rlm_rag_prompt\n",
    "    | llm\n",
    ")\n",
    "rag_chain.invoke(question)"
   ]
  },
  {
   "cell_type": "code",
   "execution_count": null,
   "metadata": {},
   "outputs": [],
   "source": []
  }
 ],
 "metadata": {
  "kernelspec": {
   "display_name": "inflearn-llm-application",
   "language": "python",
   "name": "python3"
  },
  "language_info": {
   "name": "python",
   "version": "3.10.12"
  }
 },
 "nbformat": 4,
 "nbformat_minor": 2
}
