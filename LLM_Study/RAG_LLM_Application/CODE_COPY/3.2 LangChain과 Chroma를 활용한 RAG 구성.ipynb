{
 "cells": [
  {
   "cell_type": "markdown",
   "metadata": {},
   "source": [
    "1. 문서의 내용을 읽는다\n",
    "2. 문서를 쪼갠다\n",
    "    - 토큰수 초과로 답변을 생성하지 못할 수 있고\n",
    "    - 문서가 길면 (인풋이 길면) 답변 생성이 오래걸림\n",
    "3. 임베딩 -> Vector Database에 저장\n",
    "4. 질문이 있을 때, Vector Database에 유사도 검색\n",
    "5. 유사도 검색으로 가져온 문서를 LLM에 질문과 같이 전달"
   ]
  },
  {
   "cell_type": "markdown",
   "metadata": {},
   "source": [
    "# 1. 패키지 설치"
   ]
  },
  {
   "cell_type": "code",
   "execution_count": 1,
   "metadata": {},
   "outputs": [
    {
     "name": "stdout",
     "output_type": "stream",
     "text": [
      "Requirement already satisfied: python-dotenv in /Users/kyutae/.pyenv/versions/3.11.9/envs/RAG_p311/lib/python3.11/site-packages (1.1.1)\n",
      "Requirement already satisfied: langchain in /Users/kyutae/.pyenv/versions/3.11.9/envs/RAG_p311/lib/python3.11/site-packages (0.3.26)\n",
      "Requirement already satisfied: langchain-openai in /Users/kyutae/.pyenv/versions/3.11.9/envs/RAG_p311/lib/python3.11/site-packages (0.3.26)\n",
      "Requirement already satisfied: langchain-community in /Users/kyutae/.pyenv/versions/3.11.9/envs/RAG_p311/lib/python3.11/site-packages (0.3.26)\n",
      "Requirement already satisfied: langchain-text-splitters in /Users/kyutae/.pyenv/versions/3.11.9/envs/RAG_p311/lib/python3.11/site-packages (0.3.8)\n",
      "Requirement already satisfied: docx2txt in /Users/kyutae/.pyenv/versions/3.11.9/envs/RAG_p311/lib/python3.11/site-packages (0.9)\n",
      "Requirement already satisfied: langchain-chroma in /Users/kyutae/.pyenv/versions/3.11.9/envs/RAG_p311/lib/python3.11/site-packages (0.2.4)\n",
      "Requirement already satisfied: langchain-core<1.0.0,>=0.3.66 in /Users/kyutae/.pyenv/versions/3.11.9/envs/RAG_p311/lib/python3.11/site-packages (from langchain) (0.3.66)\n",
      "Requirement already satisfied: langsmith>=0.1.17 in /Users/kyutae/.pyenv/versions/3.11.9/envs/RAG_p311/lib/python3.11/site-packages (from langchain) (0.4.3)\n",
      "Requirement already satisfied: pydantic<3.0.0,>=2.7.4 in /Users/kyutae/.pyenv/versions/3.11.9/envs/RAG_p311/lib/python3.11/site-packages (from langchain) (2.11.7)\n",
      "Requirement already satisfied: SQLAlchemy<3,>=1.4 in /Users/kyutae/.pyenv/versions/3.11.9/envs/RAG_p311/lib/python3.11/site-packages (from langchain) (2.0.41)\n",
      "Requirement already satisfied: requests<3,>=2 in /Users/kyutae/.pyenv/versions/3.11.9/envs/RAG_p311/lib/python3.11/site-packages (from langchain) (2.32.4)\n",
      "Requirement already satisfied: PyYAML>=5.3 in /Users/kyutae/.pyenv/versions/3.11.9/envs/RAG_p311/lib/python3.11/site-packages (from langchain) (6.0.2)\n",
      "Requirement already satisfied: openai<2.0.0,>=1.86.0 in /Users/kyutae/.pyenv/versions/3.11.9/envs/RAG_p311/lib/python3.11/site-packages (from langchain-openai) (1.92.2)\n",
      "Requirement already satisfied: tiktoken<1,>=0.7 in /Users/kyutae/.pyenv/versions/3.11.9/envs/RAG_p311/lib/python3.11/site-packages (from langchain-openai) (0.9.0)\n",
      "Requirement already satisfied: aiohttp<4.0.0,>=3.8.3 in /Users/kyutae/.pyenv/versions/3.11.9/envs/RAG_p311/lib/python3.11/site-packages (from langchain-community) (3.12.13)\n",
      "Requirement already satisfied: tenacity!=8.4.0,<10,>=8.1.0 in /Users/kyutae/.pyenv/versions/3.11.9/envs/RAG_p311/lib/python3.11/site-packages (from langchain-community) (9.1.2)\n",
      "Requirement already satisfied: dataclasses-json<0.7,>=0.5.7 in /Users/kyutae/.pyenv/versions/3.11.9/envs/RAG_p311/lib/python3.11/site-packages (from langchain-community) (0.6.7)\n",
      "Requirement already satisfied: pydantic-settings<3.0.0,>=2.4.0 in /Users/kyutae/.pyenv/versions/3.11.9/envs/RAG_p311/lib/python3.11/site-packages (from langchain-community) (2.10.1)\n",
      "Requirement already satisfied: httpx-sse<1.0.0,>=0.4.0 in /Users/kyutae/.pyenv/versions/3.11.9/envs/RAG_p311/lib/python3.11/site-packages (from langchain-community) (0.4.1)\n",
      "Requirement already satisfied: numpy>=1.26.2 in /Users/kyutae/.pyenv/versions/3.11.9/envs/RAG_p311/lib/python3.11/site-packages (from langchain-community) (2.3.1)\n",
      "Requirement already satisfied: chromadb>=1.0.9 in /Users/kyutae/.pyenv/versions/3.11.9/envs/RAG_p311/lib/python3.11/site-packages (from langchain-chroma) (1.0.13)\n",
      "Requirement already satisfied: aiohappyeyeballs>=2.5.0 in /Users/kyutae/.pyenv/versions/3.11.9/envs/RAG_p311/lib/python3.11/site-packages (from aiohttp<4.0.0,>=3.8.3->langchain-community) (2.6.1)\n",
      "Requirement already satisfied: aiosignal>=1.1.2 in /Users/kyutae/.pyenv/versions/3.11.9/envs/RAG_p311/lib/python3.11/site-packages (from aiohttp<4.0.0,>=3.8.3->langchain-community) (1.3.2)\n",
      "Requirement already satisfied: attrs>=17.3.0 in /Users/kyutae/.pyenv/versions/3.11.9/envs/RAG_p311/lib/python3.11/site-packages (from aiohttp<4.0.0,>=3.8.3->langchain-community) (25.3.0)\n",
      "Requirement already satisfied: frozenlist>=1.1.1 in /Users/kyutae/.pyenv/versions/3.11.9/envs/RAG_p311/lib/python3.11/site-packages (from aiohttp<4.0.0,>=3.8.3->langchain-community) (1.7.0)\n",
      "Requirement already satisfied: multidict<7.0,>=4.5 in /Users/kyutae/.pyenv/versions/3.11.9/envs/RAG_p311/lib/python3.11/site-packages (from aiohttp<4.0.0,>=3.8.3->langchain-community) (6.5.1)\n",
      "Requirement already satisfied: propcache>=0.2.0 in /Users/kyutae/.pyenv/versions/3.11.9/envs/RAG_p311/lib/python3.11/site-packages (from aiohttp<4.0.0,>=3.8.3->langchain-community) (0.3.2)\n",
      "Requirement already satisfied: yarl<2.0,>=1.17.0 in /Users/kyutae/.pyenv/versions/3.11.9/envs/RAG_p311/lib/python3.11/site-packages (from aiohttp<4.0.0,>=3.8.3->langchain-community) (1.20.1)\n",
      "Requirement already satisfied: build>=1.0.3 in /Users/kyutae/.pyenv/versions/3.11.9/envs/RAG_p311/lib/python3.11/site-packages (from chromadb>=1.0.9->langchain-chroma) (1.2.2.post1)\n",
      "Requirement already satisfied: pybase64>=1.4.1 in /Users/kyutae/.pyenv/versions/3.11.9/envs/RAG_p311/lib/python3.11/site-packages (from chromadb>=1.0.9->langchain-chroma) (1.4.1)\n",
      "Requirement already satisfied: uvicorn>=0.18.3 in /Users/kyutae/.pyenv/versions/3.11.9/envs/RAG_p311/lib/python3.11/site-packages (from uvicorn[standard]>=0.18.3->chromadb>=1.0.9->langchain-chroma) (0.34.3)\n",
      "Requirement already satisfied: posthog>=2.4.0 in /Users/kyutae/.pyenv/versions/3.11.9/envs/RAG_p311/lib/python3.11/site-packages (from chromadb>=1.0.9->langchain-chroma) (5.4.0)\n",
      "Requirement already satisfied: typing-extensions>=4.5.0 in /Users/kyutae/.pyenv/versions/3.11.9/envs/RAG_p311/lib/python3.11/site-packages (from chromadb>=1.0.9->langchain-chroma) (4.14.0)\n",
      "Requirement already satisfied: onnxruntime>=1.14.1 in /Users/kyutae/.pyenv/versions/3.11.9/envs/RAG_p311/lib/python3.11/site-packages (from chromadb>=1.0.9->langchain-chroma) (1.22.0)\n",
      "Requirement already satisfied: opentelemetry-api>=1.2.0 in /Users/kyutae/.pyenv/versions/3.11.9/envs/RAG_p311/lib/python3.11/site-packages (from chromadb>=1.0.9->langchain-chroma) (1.34.1)\n",
      "Requirement already satisfied: opentelemetry-exporter-otlp-proto-grpc>=1.2.0 in /Users/kyutae/.pyenv/versions/3.11.9/envs/RAG_p311/lib/python3.11/site-packages (from chromadb>=1.0.9->langchain-chroma) (1.34.1)\n",
      "Requirement already satisfied: opentelemetry-sdk>=1.2.0 in /Users/kyutae/.pyenv/versions/3.11.9/envs/RAG_p311/lib/python3.11/site-packages (from chromadb>=1.0.9->langchain-chroma) (1.34.1)\n",
      "Requirement already satisfied: tokenizers>=0.13.2 in /Users/kyutae/.pyenv/versions/3.11.9/envs/RAG_p311/lib/python3.11/site-packages (from chromadb>=1.0.9->langchain-chroma) (0.19.1)\n",
      "Requirement already satisfied: pypika>=0.48.9 in /Users/kyutae/.pyenv/versions/3.11.9/envs/RAG_p311/lib/python3.11/site-packages (from chromadb>=1.0.9->langchain-chroma) (0.48.9)\n",
      "Requirement already satisfied: tqdm>=4.65.0 in /Users/kyutae/.pyenv/versions/3.11.9/envs/RAG_p311/lib/python3.11/site-packages (from chromadb>=1.0.9->langchain-chroma) (4.67.1)\n",
      "Requirement already satisfied: overrides>=7.3.1 in /Users/kyutae/.pyenv/versions/3.11.9/envs/RAG_p311/lib/python3.11/site-packages (from chromadb>=1.0.9->langchain-chroma) (7.7.0)\n",
      "Requirement already satisfied: importlib-resources in /Users/kyutae/.pyenv/versions/3.11.9/envs/RAG_p311/lib/python3.11/site-packages (from chromadb>=1.0.9->langchain-chroma) (6.5.2)\n",
      "Requirement already satisfied: grpcio>=1.58.0 in /Users/kyutae/.pyenv/versions/3.11.9/envs/RAG_p311/lib/python3.11/site-packages (from chromadb>=1.0.9->langchain-chroma) (1.73.1)\n",
      "Requirement already satisfied: bcrypt>=4.0.1 in /Users/kyutae/.pyenv/versions/3.11.9/envs/RAG_p311/lib/python3.11/site-packages (from chromadb>=1.0.9->langchain-chroma) (4.3.0)\n",
      "Requirement already satisfied: typer>=0.9.0 in /Users/kyutae/.pyenv/versions/3.11.9/envs/RAG_p311/lib/python3.11/site-packages (from chromadb>=1.0.9->langchain-chroma) (0.16.0)\n",
      "Requirement already satisfied: kubernetes>=28.1.0 in /Users/kyutae/.pyenv/versions/3.11.9/envs/RAG_p311/lib/python3.11/site-packages (from chromadb>=1.0.9->langchain-chroma) (33.1.0)\n",
      "Requirement already satisfied: mmh3>=4.0.1 in /Users/kyutae/.pyenv/versions/3.11.9/envs/RAG_p311/lib/python3.11/site-packages (from chromadb>=1.0.9->langchain-chroma) (5.1.0)\n",
      "Requirement already satisfied: orjson>=3.9.12 in /Users/kyutae/.pyenv/versions/3.11.9/envs/RAG_p311/lib/python3.11/site-packages (from chromadb>=1.0.9->langchain-chroma) (3.10.18)\n",
      "Requirement already satisfied: httpx>=0.27.0 in /Users/kyutae/.pyenv/versions/3.11.9/envs/RAG_p311/lib/python3.11/site-packages (from chromadb>=1.0.9->langchain-chroma) (0.28.1)\n",
      "Requirement already satisfied: rich>=10.11.0 in /Users/kyutae/.pyenv/versions/3.11.9/envs/RAG_p311/lib/python3.11/site-packages (from chromadb>=1.0.9->langchain-chroma) (14.0.0)\n",
      "Requirement already satisfied: jsonschema>=4.19.0 in /Users/kyutae/.pyenv/versions/3.11.9/envs/RAG_p311/lib/python3.11/site-packages (from chromadb>=1.0.9->langchain-chroma) (4.24.0)\n",
      "Requirement already satisfied: marshmallow<4.0.0,>=3.18.0 in /Users/kyutae/.pyenv/versions/3.11.9/envs/RAG_p311/lib/python3.11/site-packages (from dataclasses-json<0.7,>=0.5.7->langchain-community) (3.26.1)\n",
      "Requirement already satisfied: typing-inspect<1,>=0.4.0 in /Users/kyutae/.pyenv/versions/3.11.9/envs/RAG_p311/lib/python3.11/site-packages (from dataclasses-json<0.7,>=0.5.7->langchain-community) (0.9.0)\n",
      "Requirement already satisfied: jsonpatch<2.0,>=1.33 in /Users/kyutae/.pyenv/versions/3.11.9/envs/RAG_p311/lib/python3.11/site-packages (from langchain-core<1.0.0,>=0.3.66->langchain) (1.33)\n",
      "Requirement already satisfied: packaging<25,>=23.2 in /Users/kyutae/.pyenv/versions/3.11.9/envs/RAG_p311/lib/python3.11/site-packages (from langchain-core<1.0.0,>=0.3.66->langchain) (24.2)\n",
      "Requirement already satisfied: requests-toolbelt<2.0.0,>=1.0.0 in /Users/kyutae/.pyenv/versions/3.11.9/envs/RAG_p311/lib/python3.11/site-packages (from langsmith>=0.1.17->langchain) (1.0.0)\n",
      "Requirement already satisfied: zstandard<0.24.0,>=0.23.0 in /Users/kyutae/.pyenv/versions/3.11.9/envs/RAG_p311/lib/python3.11/site-packages (from langsmith>=0.1.17->langchain) (0.23.0)\n",
      "Requirement already satisfied: anyio<5,>=3.5.0 in /Users/kyutae/.pyenv/versions/3.11.9/envs/RAG_p311/lib/python3.11/site-packages (from openai<2.0.0,>=1.86.0->langchain-openai) (4.9.0)\n",
      "Requirement already satisfied: distro<2,>=1.7.0 in /Users/kyutae/.pyenv/versions/3.11.9/envs/RAG_p311/lib/python3.11/site-packages (from openai<2.0.0,>=1.86.0->langchain-openai) (1.9.0)\n",
      "Requirement already satisfied: jiter<1,>=0.4.0 in /Users/kyutae/.pyenv/versions/3.11.9/envs/RAG_p311/lib/python3.11/site-packages (from openai<2.0.0,>=1.86.0->langchain-openai) (0.10.0)\n",
      "Requirement already satisfied: sniffio in /Users/kyutae/.pyenv/versions/3.11.9/envs/RAG_p311/lib/python3.11/site-packages (from openai<2.0.0,>=1.86.0->langchain-openai) (1.3.1)\n",
      "Requirement already satisfied: annotated-types>=0.6.0 in /Users/kyutae/.pyenv/versions/3.11.9/envs/RAG_p311/lib/python3.11/site-packages (from pydantic<3.0.0,>=2.7.4->langchain) (0.7.0)\n",
      "Requirement already satisfied: pydantic-core==2.33.2 in /Users/kyutae/.pyenv/versions/3.11.9/envs/RAG_p311/lib/python3.11/site-packages (from pydantic<3.0.0,>=2.7.4->langchain) (2.33.2)\n",
      "Requirement already satisfied: typing-inspection>=0.4.0 in /Users/kyutae/.pyenv/versions/3.11.9/envs/RAG_p311/lib/python3.11/site-packages (from pydantic<3.0.0,>=2.7.4->langchain) (0.4.1)\n",
      "Requirement already satisfied: charset_normalizer<4,>=2 in /Users/kyutae/.pyenv/versions/3.11.9/envs/RAG_p311/lib/python3.11/site-packages (from requests<3,>=2->langchain) (3.4.2)\n",
      "Requirement already satisfied: idna<4,>=2.5 in /Users/kyutae/.pyenv/versions/3.11.9/envs/RAG_p311/lib/python3.11/site-packages (from requests<3,>=2->langchain) (3.10)\n",
      "Requirement already satisfied: urllib3<3,>=1.21.1 in /Users/kyutae/.pyenv/versions/3.11.9/envs/RAG_p311/lib/python3.11/site-packages (from requests<3,>=2->langchain) (2.5.0)\n",
      "Requirement already satisfied: certifi>=2017.4.17 in /Users/kyutae/.pyenv/versions/3.11.9/envs/RAG_p311/lib/python3.11/site-packages (from requests<3,>=2->langchain) (2025.6.15)\n",
      "Requirement already satisfied: regex>=2022.1.18 in /Users/kyutae/.pyenv/versions/3.11.9/envs/RAG_p311/lib/python3.11/site-packages (from tiktoken<1,>=0.7->langchain-openai) (2024.11.6)\n",
      "Requirement already satisfied: pyproject_hooks in /Users/kyutae/.pyenv/versions/3.11.9/envs/RAG_p311/lib/python3.11/site-packages (from build>=1.0.3->chromadb>=1.0.9->langchain-chroma) (1.2.0)\n",
      "Requirement already satisfied: httpcore==1.* in /Users/kyutae/.pyenv/versions/3.11.9/envs/RAG_p311/lib/python3.11/site-packages (from httpx>=0.27.0->chromadb>=1.0.9->langchain-chroma) (1.0.9)\n",
      "Requirement already satisfied: h11>=0.16 in /Users/kyutae/.pyenv/versions/3.11.9/envs/RAG_p311/lib/python3.11/site-packages (from httpcore==1.*->httpx>=0.27.0->chromadb>=1.0.9->langchain-chroma) (0.16.0)\n",
      "Requirement already satisfied: jsonpointer>=1.9 in /Users/kyutae/.pyenv/versions/3.11.9/envs/RAG_p311/lib/python3.11/site-packages (from jsonpatch<2.0,>=1.33->langchain-core<1.0.0,>=0.3.66->langchain) (3.0.0)\n",
      "Requirement already satisfied: jsonschema-specifications>=2023.03.6 in /Users/kyutae/.pyenv/versions/3.11.9/envs/RAG_p311/lib/python3.11/site-packages (from jsonschema>=4.19.0->chromadb>=1.0.9->langchain-chroma) (2025.4.1)\n",
      "Requirement already satisfied: referencing>=0.28.4 in /Users/kyutae/.pyenv/versions/3.11.9/envs/RAG_p311/lib/python3.11/site-packages (from jsonschema>=4.19.0->chromadb>=1.0.9->langchain-chroma) (0.36.2)\n",
      "Requirement already satisfied: rpds-py>=0.7.1 in /Users/kyutae/.pyenv/versions/3.11.9/envs/RAG_p311/lib/python3.11/site-packages (from jsonschema>=4.19.0->chromadb>=1.0.9->langchain-chroma) (0.25.1)\n",
      "Requirement already satisfied: six>=1.9.0 in /Users/kyutae/.pyenv/versions/3.11.9/envs/RAG_p311/lib/python3.11/site-packages (from kubernetes>=28.1.0->chromadb>=1.0.9->langchain-chroma) (1.17.0)\n",
      "Requirement already satisfied: python-dateutil>=2.5.3 in /Users/kyutae/.pyenv/versions/3.11.9/envs/RAG_p311/lib/python3.11/site-packages (from kubernetes>=28.1.0->chromadb>=1.0.9->langchain-chroma) (2.9.0.post0)\n",
      "Requirement already satisfied: google-auth>=1.0.1 in /Users/kyutae/.pyenv/versions/3.11.9/envs/RAG_p311/lib/python3.11/site-packages (from kubernetes>=28.1.0->chromadb>=1.0.9->langchain-chroma) (2.40.3)\n",
      "Requirement already satisfied: websocket-client!=0.40.0,!=0.41.*,!=0.42.*,>=0.32.0 in /Users/kyutae/.pyenv/versions/3.11.9/envs/RAG_p311/lib/python3.11/site-packages (from kubernetes>=28.1.0->chromadb>=1.0.9->langchain-chroma) (1.8.0)\n",
      "Requirement already satisfied: requests-oauthlib in /Users/kyutae/.pyenv/versions/3.11.9/envs/RAG_p311/lib/python3.11/site-packages (from kubernetes>=28.1.0->chromadb>=1.0.9->langchain-chroma) (2.0.0)\n",
      "Requirement already satisfied: oauthlib>=3.2.2 in /Users/kyutae/.pyenv/versions/3.11.9/envs/RAG_p311/lib/python3.11/site-packages (from kubernetes>=28.1.0->chromadb>=1.0.9->langchain-chroma) (3.3.1)\n",
      "Requirement already satisfied: durationpy>=0.7 in /Users/kyutae/.pyenv/versions/3.11.9/envs/RAG_p311/lib/python3.11/site-packages (from kubernetes>=28.1.0->chromadb>=1.0.9->langchain-chroma) (0.10)\n",
      "Requirement already satisfied: coloredlogs in /Users/kyutae/.pyenv/versions/3.11.9/envs/RAG_p311/lib/python3.11/site-packages (from onnxruntime>=1.14.1->chromadb>=1.0.9->langchain-chroma) (15.0.1)\n",
      "Requirement already satisfied: flatbuffers in /Users/kyutae/.pyenv/versions/3.11.9/envs/RAG_p311/lib/python3.11/site-packages (from onnxruntime>=1.14.1->chromadb>=1.0.9->langchain-chroma) (25.2.10)\n",
      "Requirement already satisfied: protobuf in /Users/kyutae/.pyenv/versions/3.11.9/envs/RAG_p311/lib/python3.11/site-packages (from onnxruntime>=1.14.1->chromadb>=1.0.9->langchain-chroma) (5.29.5)\n",
      "Requirement already satisfied: sympy in /Users/kyutae/.pyenv/versions/3.11.9/envs/RAG_p311/lib/python3.11/site-packages (from onnxruntime>=1.14.1->chromadb>=1.0.9->langchain-chroma) (1.14.0)\n",
      "Requirement already satisfied: importlib-metadata<8.8.0,>=6.0 in /Users/kyutae/.pyenv/versions/3.11.9/envs/RAG_p311/lib/python3.11/site-packages (from opentelemetry-api>=1.2.0->chromadb>=1.0.9->langchain-chroma) (8.7.0)\n",
      "Requirement already satisfied: googleapis-common-protos~=1.52 in /Users/kyutae/.pyenv/versions/3.11.9/envs/RAG_p311/lib/python3.11/site-packages (from opentelemetry-exporter-otlp-proto-grpc>=1.2.0->chromadb>=1.0.9->langchain-chroma) (1.70.0)\n",
      "Requirement already satisfied: opentelemetry-exporter-otlp-proto-common==1.34.1 in /Users/kyutae/.pyenv/versions/3.11.9/envs/RAG_p311/lib/python3.11/site-packages (from opentelemetry-exporter-otlp-proto-grpc>=1.2.0->chromadb>=1.0.9->langchain-chroma) (1.34.1)\n",
      "Requirement already satisfied: opentelemetry-proto==1.34.1 in /Users/kyutae/.pyenv/versions/3.11.9/envs/RAG_p311/lib/python3.11/site-packages (from opentelemetry-exporter-otlp-proto-grpc>=1.2.0->chromadb>=1.0.9->langchain-chroma) (1.34.1)\n",
      "Requirement already satisfied: opentelemetry-semantic-conventions==0.55b1 in /Users/kyutae/.pyenv/versions/3.11.9/envs/RAG_p311/lib/python3.11/site-packages (from opentelemetry-sdk>=1.2.0->chromadb>=1.0.9->langchain-chroma) (0.55b1)\n",
      "Requirement already satisfied: backoff>=1.10.0 in /Users/kyutae/.pyenv/versions/3.11.9/envs/RAG_p311/lib/python3.11/site-packages (from posthog>=2.4.0->chromadb>=1.0.9->langchain-chroma) (2.2.1)\n",
      "Requirement already satisfied: markdown-it-py>=2.2.0 in /Users/kyutae/.pyenv/versions/3.11.9/envs/RAG_p311/lib/python3.11/site-packages (from rich>=10.11.0->chromadb>=1.0.9->langchain-chroma) (3.0.0)\n",
      "Requirement already satisfied: pygments<3.0.0,>=2.13.0 in /Users/kyutae/.pyenv/versions/3.11.9/envs/RAG_p311/lib/python3.11/site-packages (from rich>=10.11.0->chromadb>=1.0.9->langchain-chroma) (2.19.2)\n",
      "Requirement already satisfied: huggingface-hub<1.0,>=0.16.4 in /Users/kyutae/.pyenv/versions/3.11.9/envs/RAG_p311/lib/python3.11/site-packages (from tokenizers>=0.13.2->chromadb>=1.0.9->langchain-chroma) (0.33.1)\n",
      "Requirement already satisfied: click>=8.0.0 in /Users/kyutae/.pyenv/versions/3.11.9/envs/RAG_p311/lib/python3.11/site-packages (from typer>=0.9.0->chromadb>=1.0.9->langchain-chroma) (8.2.1)\n",
      "Requirement already satisfied: shellingham>=1.3.0 in /Users/kyutae/.pyenv/versions/3.11.9/envs/RAG_p311/lib/python3.11/site-packages (from typer>=0.9.0->chromadb>=1.0.9->langchain-chroma) (1.5.4)\n",
      "Requirement already satisfied: mypy-extensions>=0.3.0 in /Users/kyutae/.pyenv/versions/3.11.9/envs/RAG_p311/lib/python3.11/site-packages (from typing-inspect<1,>=0.4.0->dataclasses-json<0.7,>=0.5.7->langchain-community) (1.1.0)\n",
      "Requirement already satisfied: httptools>=0.6.3 in /Users/kyutae/.pyenv/versions/3.11.9/envs/RAG_p311/lib/python3.11/site-packages (from uvicorn[standard]>=0.18.3->chromadb>=1.0.9->langchain-chroma) (0.6.4)\n",
      "Requirement already satisfied: uvloop>=0.15.1 in /Users/kyutae/.pyenv/versions/3.11.9/envs/RAG_p311/lib/python3.11/site-packages (from uvicorn[standard]>=0.18.3->chromadb>=1.0.9->langchain-chroma) (0.21.0)\n",
      "Requirement already satisfied: watchfiles>=0.13 in /Users/kyutae/.pyenv/versions/3.11.9/envs/RAG_p311/lib/python3.11/site-packages (from uvicorn[standard]>=0.18.3->chromadb>=1.0.9->langchain-chroma) (1.1.0)\n",
      "Requirement already satisfied: websockets>=10.4 in /Users/kyutae/.pyenv/versions/3.11.9/envs/RAG_p311/lib/python3.11/site-packages (from uvicorn[standard]>=0.18.3->chromadb>=1.0.9->langchain-chroma) (15.0.1)\n",
      "Requirement already satisfied: cachetools<6.0,>=2.0.0 in /Users/kyutae/.pyenv/versions/3.11.9/envs/RAG_p311/lib/python3.11/site-packages (from google-auth>=1.0.1->kubernetes>=28.1.0->chromadb>=1.0.9->langchain-chroma) (5.5.2)\n",
      "Requirement already satisfied: pyasn1-modules>=0.2.1 in /Users/kyutae/.pyenv/versions/3.11.9/envs/RAG_p311/lib/python3.11/site-packages (from google-auth>=1.0.1->kubernetes>=28.1.0->chromadb>=1.0.9->langchain-chroma) (0.4.2)\n",
      "Requirement already satisfied: rsa<5,>=3.1.4 in /Users/kyutae/.pyenv/versions/3.11.9/envs/RAG_p311/lib/python3.11/site-packages (from google-auth>=1.0.1->kubernetes>=28.1.0->chromadb>=1.0.9->langchain-chroma) (4.9.1)\n",
      "Requirement already satisfied: filelock in /Users/kyutae/.pyenv/versions/3.11.9/envs/RAG_p311/lib/python3.11/site-packages (from huggingface-hub<1.0,>=0.16.4->tokenizers>=0.13.2->chromadb>=1.0.9->langchain-chroma) (3.18.0)\n",
      "Requirement already satisfied: fsspec>=2023.5.0 in /Users/kyutae/.pyenv/versions/3.11.9/envs/RAG_p311/lib/python3.11/site-packages (from huggingface-hub<1.0,>=0.16.4->tokenizers>=0.13.2->chromadb>=1.0.9->langchain-chroma) (2025.5.1)\n",
      "Requirement already satisfied: hf-xet<2.0.0,>=1.1.2 in /Users/kyutae/.pyenv/versions/3.11.9/envs/RAG_p311/lib/python3.11/site-packages (from huggingface-hub<1.0,>=0.16.4->tokenizers>=0.13.2->chromadb>=1.0.9->langchain-chroma) (1.1.5)\n",
      "Requirement already satisfied: zipp>=3.20 in /Users/kyutae/.pyenv/versions/3.11.9/envs/RAG_p311/lib/python3.11/site-packages (from importlib-metadata<8.8.0,>=6.0->opentelemetry-api>=1.2.0->chromadb>=1.0.9->langchain-chroma) (3.23.0)\n",
      "Requirement already satisfied: mdurl~=0.1 in /Users/kyutae/.pyenv/versions/3.11.9/envs/RAG_p311/lib/python3.11/site-packages (from markdown-it-py>=2.2.0->rich>=10.11.0->chromadb>=1.0.9->langchain-chroma) (0.1.2)\n",
      "Requirement already satisfied: humanfriendly>=9.1 in /Users/kyutae/.pyenv/versions/3.11.9/envs/RAG_p311/lib/python3.11/site-packages (from coloredlogs->onnxruntime>=1.14.1->chromadb>=1.0.9->langchain-chroma) (10.0)\n",
      "Requirement already satisfied: mpmath<1.4,>=1.1.0 in /Users/kyutae/.pyenv/versions/3.11.9/envs/RAG_p311/lib/python3.11/site-packages (from sympy->onnxruntime>=1.14.1->chromadb>=1.0.9->langchain-chroma) (1.3.0)\n",
      "Requirement already satisfied: pyasn1<0.7.0,>=0.6.1 in /Users/kyutae/.pyenv/versions/3.11.9/envs/RAG_p311/lib/python3.11/site-packages (from pyasn1-modules>=0.2.1->google-auth>=1.0.1->kubernetes>=28.1.0->chromadb>=1.0.9->langchain-chroma) (0.6.1)\n",
      "\n",
      "\u001b[1m[\u001b[0m\u001b[34;49mnotice\u001b[0m\u001b[1;39;49m]\u001b[0m\u001b[39;49m A new release of pip is available: \u001b[0m\u001b[31;49m24.0\u001b[0m\u001b[39;49m -> \u001b[0m\u001b[32;49m25.1.1\u001b[0m\n",
      "\u001b[1m[\u001b[0m\u001b[34;49mnotice\u001b[0m\u001b[1;39;49m]\u001b[0m\u001b[39;49m To update, run: \u001b[0m\u001b[32;49mpip install --upgrade pip\u001b[0m\n",
      "Note: you may need to restart the kernel to use updated packages.\n"
     ]
    }
   ],
   "source": [
    "%pip install python-dotenv langchain langchain-openai langchain-community langchain-text-splitters docx2txt langchain-chroma"
   ]
  },
  {
   "cell_type": "markdown",
   "metadata": {},
   "source": [
    "# 2. Knowledge Base 구성을 위한 데이터 생성\n",
    "\n",
    "- [RecursiveCharacterTextSplitter](https://python.langchain.com/v0.2/docs/how_to/recursive_text_splitter/)를 활용한 데이터 chunking\n",
    "    - split 된 데이터 chunk를 Large Language Model(LLM)에게 전달하면 토큰 절약 가능\n",
    "    - 비용 감소와 답변 생성시간 감소의 효과\n",
    "    - LangChain에서 다양한 [TextSplitter](https://python.langchain.com/v0.2/docs/how_to/#text-splitters)들을 제공\n",
    "- `chunk_size` 는 split 된 chunk의 최대 크기\n",
    "- `chunk_overlap`은 앞 뒤로 나뉘어진 chunk들이 얼마나 겹쳐도 되는지 지정"
   ]
  },
  {
   "cell_type": "code",
   "execution_count": 2,
   "metadata": {},
   "outputs": [],
   "source": [
    "# 문서 쪼개기\n",
    "from langchain_community.document_loaders import Docx2txtLoader\n",
    "from langchain_text_splitters import RecursiveCharacterTextSplitter\n",
    "\n",
    "text_splitter = RecursiveCharacterTextSplitter(\n",
    "    chunk_size=1500,\n",
    "    chunk_overlap=200,\n",
    ")\n",
    "\n",
    "loader = Docx2txtLoader('./tax_docs/tax_with_markdown.docx')\n",
    "document_list = loader.load_and_split(text_splitter=text_splitter)"
   ]
  },
  {
   "cell_type": "code",
   "execution_count": 3,
   "metadata": {},
   "outputs": [
    {
     "name": "stdout",
     "output_type": "stream",
     "text": [
      "<class 'list'>\n",
      "225\n"
     ]
    },
    {
     "data": {
      "text/plain": [
       "[Document(metadata={'source': './tax_docs/tax_with_markdown.docx'}, page_content='소득세법\\n\\n소득세법\\n\\n[시행 2024. 1. 1.] [법률 제19933호, 2023. 12. 31., 일부개정]\\n\\n기획재정부(소득세제과(사업소득, 기타소득)) 044-215-4217\\n\\n기획재정부(소득세제과(근로소득)) 044-215-4216\\n\\n기획재정부(재산세제과(양도소득세)) 044-215-4314\\n\\n기획재정부(금융세제과(이자소득, 배당소득)) 044-215-4236\\n\\n\\n\\n\\t제1장 총칙 <개정 2009. 12. 31.>\\t\\n\\n\\n\\n제1조(목적) 이 법은 개인의 소득에 대하여 소득의 성격과 납세자의 부담능력 등에 따라 적정하게 과세함으로써 조세부담의 형평을 도모하고 재정수입의 원활한 조달에 이바지함을 목적으로 한다.\\n\\n[본조신설 2009. 12. 31.]\\n\\n[종전 제1조는 제2조로 이동 <2009. 12. 31.>]\\n\\n\\n\\n제1조의2(정의) ① 이 법에서 사용하는 용어의 뜻은 다음과 같다. <개정 2010. 12. 27., 2014. 12. 23., 2018. 12. 31.>\\n\\n1. “거주자”란 국내에 주소를 두거나 183일 이상의 거소(居所)를 둔 개인을 말한다.\\n\\n2. “비거주자”란 거주자가 아닌 개인을 말한다.\\n\\n3. “내국법인”이란 「법인세법」 제2조제1호에 따른 내국법인을 말한다.\\n\\n4. “외국법인”이란 「법인세법」 제2조제3호에 따른 외국법인을 말한다.\\n\\n5. “사업자”란 사업소득이 있는 거주자를 말한다.\\n\\n② 제1항에 따른 주소ㆍ거소와 거주자ㆍ비거주자의 구분은 대통령령으로 정한다.\\n\\n[본조신설 2009. 12. 31.]\\n\\n\\n\\n제2조(납세의무) ① 다음 각 호의 어느 하나에 해당하는 개인은 이 법에 따라 각자의 소득에 대한 소득세를 납부할 의무를 진다.\\n\\n1. 거주자\\n\\n2. 비거주자로서 국내원천소득(國內源泉所得)이 있는 개인\\n\\n② 다음 각 호의 어느 하나에 해당하는 자는 이 법에 따라 원천징수한 소득세를 납부할 의무를 진다.\\n\\n1. 거주자\\n\\n2. 비거주자\\n\\n3. 내국법인\\n\\n4. 외국법인의 국내지점 또는 국내영업소(출장소, 그 밖에 이에 준하는 것을 포함한다. 이하 같다)\\n\\n5. 그 밖에 이 법에서 정하는 원천징수의무자\\n\\n③ 「국세기본법」 제13조제1항에 따른 법인 아닌 단체 중 같은 조 제4항에 따른 법인으로 보는 단체(이하 “법인으로 보는 단체”라 한다) 외의 법인 아닌 단체는 국내에 주사무소 또는 사업의 실질적 관리장소를 둔 경우에는 1거주자로, 그 밖의 경우에는 1비거주자로 보아 이 법을 적용한다. 다만, 다음 각 호의 어느 하나에 해당하는 경우에는 소득구분에 따라 해당 단체의 각 구성원별로 이 법 또는 「법인세법」에 따라 소득에 대한 소득세 또는 법인세[해당 구성원이 「법인세법」에 따른 법인(법인으로 보는 단체를 포함한다)인 경우로 한정한다. 이하 이 조에서 같다]를 납부할 의무를 진다.<개정 2010. 12. 27., 2013. 1. 1., 2018. 12. 31.>\\n\\n1. 구성원 간 이익의 분배비율이 정하여져 있고 해당 구성원별로 이익의 분배비율이 확인되는 경우'),\n",
       " Document(metadata={'source': './tax_docs/tax_with_markdown.docx'}, page_content='1. 구성원 간 이익의 분배비율이 정하여져 있고 해당 구성원별로 이익의 분배비율이 확인되는 경우\\n\\n2. 구성원 간 이익의 분배비율이 정하여져 있지 아니하나 사실상 구성원별로 이익이 분배되는 것으로 확인되는 경우\\n\\n④ 제3항에도 불구하고 해당 단체의 전체 구성원 중 일부 구성원의 분배비율만 확인되거나 일부 구성원에게만 이익이 분배되는 것으로 확인되는 경우에는 다음 각 호의 구분에 따라 소득세 또는 법인세를 납부할 의무를 진다.<신설 2018. 12. 31.>\\n\\n1. 확인되는 부분: 해당 구성원별로 소득세 또는 법인세에 대한 납세의무 부담\\n\\n2. 확인되지 아니하는 부분: 해당 단체를 1거주자 또는 1비거주자로 보아 소득세에 대한 납세의무 부담\\n\\n⑤ 제3항 및 제4항에도 불구하고 법인으로 보는 단체 외의 법인 아닌 단체에 해당하는 국외투자기구(투자권유를 하여 모은 금전 등을 가지고 재산적 가치가 있는 투자대상자산을 취득, 처분하거나 그 밖의 방법으로 운용하고 그 결과를 투자자에게 배분하여 귀속시키는 투자행위를 하는 기구로서 국외에서 설립된 기구를 말한다. 이하 같다)를 제119조의2제1항제2호에 따라 국내원천소득의 실질귀속자로 보는 경우 그 국외투자기구는 1비거주자로서 소득세를 납부할 의무를 진다.<신설 2018. 12. 31.>\\n\\n[전문개정 2009. 12. 31.]\\n\\n[제1조에서 이동, 종전 제2조는 제2조의2로 이동 <2009. 12. 31.>]\\n\\n\\n\\n제2조의2(납세의무의 범위) ① 제43조에 따라 공동사업에 관한 소득금액을 계산하는 경우에는 해당 공동사업자별로 납세의무를 진다. 다만, 제43조제3항에 따른 주된 공동사업자(이하 이 항에서 “주된 공동사업자”라 한다)에게 합산과세되는 경우 그 합산과세되는 소득금액에 대해서는 주된 공동사업자의 특수관계인은 같은 조 제2항에 따른 손익분배비율에 해당하는 그의 소득금액을 한도로 주된 공동사업자와 연대하여 납세의무를 진다. <개정 2012. 1. 1., 2013. 1. 1.>\\n\\n② 제44조에 따라 피상속인의 소득금액에 대해서 과세하는 경우에는 그 상속인이 납세의무를 진다.\\n\\n③ 제101조제2항에 따라 증여자가 자산을 직접 양도한 것으로 보는 경우 그 양도소득에 대해서는 증여자와 증여받은 자가 연대하여 납세의무를 진다.<개정 2020. 12. 29.>\\n\\n④ 제127조에 따라 원천징수되는 소득으로서 제14조제3항 또는 다른 법률에 따라 제14조제2항에 따른 종합소득과세표준에 합산되지 아니하는 소득이 있는 자는 그 원천징수되는 소득세에 대해서 납세의무를 진다.<개정 2020. 12. 29.>\\n\\n⑤ 공동으로 소유한 자산에 대한 양도소득금액을 계산하는 경우에는 해당 자산을 공동으로 소유하는 각 거주자가 납세의무를 진다.<신설 2017. 12. 19., 2020. 12. 29.>\\n\\n[전문개정 2009. 12. 31.]\\n\\n[제2조에서 이동 <2009. 12. 31.>]'),\n",
       " Document(metadata={'source': './tax_docs/tax_with_markdown.docx'}, page_content='⑤ 공동으로 소유한 자산에 대한 양도소득금액을 계산하는 경우에는 해당 자산을 공동으로 소유하는 각 거주자가 납세의무를 진다.<신설 2017. 12. 19., 2020. 12. 29.>\\n\\n[전문개정 2009. 12. 31.]\\n\\n[제2조에서 이동 <2009. 12. 31.>]\\n\\n\\n\\n제2조의3(신탁재산 귀속 소득에 대한 납세의무의 범위) ① 신탁재산에 귀속되는 소득은 그 신탁의 이익을 받을 수익자(수익자가 사망하는 경우에는 그 상속인)에게 귀속되는 것으로 본다.\\n\\n② 제1항에도 불구하고 위탁자가 신탁재산을 실질적으로 통제하는 등 대통령령으로 정하는 요건을 충족하는 신탁의 경우에는 그 신탁재산에 귀속되는 소득은 위탁자에게 귀속되는 것으로 본다.<개정 2023. 12. 31.>\\n\\n[본조신설 2020. 12. 29.]\\n\\n\\n\\n제3조(과세소득의 범위) ① 거주자에게는 이 법에서 규정하는 모든 소득에 대해서 과세한다. 다만, 해당 과세기간 종료일 10년 전부터 국내에 주소나 거소를 둔 기간의 합계가 5년 이하인 외국인 거주자에게는 과세대상 소득 중 국외에서 발생한 소득의 경우 국내에서 지급되거나 국내로 송금된 소득에 대해서만 과세한다.\\n\\n② 비거주자에게는 제119조에 따른 국내원천소득에 대해서만과세한다.\\n\\n③ 제1항 및 제2항을 적용하는 경우 「조세특례제한법」 제100조의14제2호의 동업자에게는 같은 법 제100조의18제1항에 따라 배분받은 소득 및 같은 법 제100조의22제1항에 따라 분배받은 자산의 시가 중 분배일의 지분가액을 초과하여 발생하는 소득에 대하여 과세한다.\\n\\n[전문개정 2009. 12. 31.]\\n\\n\\n\\n제4조(소득의 구분) ① 거주자의 소득은 다음 각 호와 같이 구분한다. <개정 2013. 1. 1.>\\n\\n1. 종합소득\\n\\n\\u3000이 법에 따라 과세되는 모든 소득에서 제2호 및 제3호에 따른 소득을 제외한 소득으로서 다음 각 목의 소득을 합산한 것\\n\\n가. 이자소득\\n\\n나. 배당소득\\n\\n다. 사업소득\\n\\n라. 근로소득\\n\\n마. 연금소득\\n\\n바. 기타소득\\n\\n2. 퇴직소득\\n\\n3. 양도소득\\n\\n② 제1항에 따른 소득을 구분할 때 다음 각 호의 신탁을 제외한 신탁의 이익은 「신탁법」 제2조에 따라 수탁자에게 이전되거나 그 밖에 처분된 재산권에서 발생하는 소득의 내용별로 구분한다.<개정 2011. 7. 25., 2020. 12. 29., 2022. 12. 31.>\\n\\n1. 「법인세법」 제5조제2항에 따라 신탁재산에 귀속되는 소득에 대하여 그 신탁의 수탁자가 법인세를 납부하는 신탁\\n\\n2. 「자본시장과 금융투자업에 관한 법률」 제9조제18항제1호에 따른 투자신탁. 다만, 2024년 12월 31일까지는 이 법 제17조제1항제5호에 따른 집합투자기구로 한정한다.\\n\\n3. 「자본시장과 금융투자업에 관한 법률」 제251조제1항에 따른 집합투자업겸영보험회사의 특별계정\\n\\n③ 비거주자의 소득은 제119조에 따라 구분한다.\\n\\n[전문개정 2009. 12. 31.]')]"
      ]
     },
     "execution_count": 3,
     "metadata": {},
     "output_type": "execute_result"
    }
   ],
   "source": [
    "# 쪼갠결과\n",
    "print(type(document_list))\n",
    "print(len(document_list))\n",
    "document_list[:3]"
   ]
  },
  {
   "cell_type": "code",
   "execution_count": 4,
   "metadata": {},
   "outputs": [],
   "source": [
    "# 쪼갠 문서를 Embedding 해주기\n",
    "from dotenv import load_dotenv\n",
    "from langchain_openai import OpenAIEmbeddings\n",
    "\n",
    "# 환경변수를 불러옴\n",
    "load_dotenv()\n",
    "\n",
    "# OpenAI에서 제공하는 Embedding Model을 활용해서 `chunk`를 vector화\n",
    "embedding = OpenAIEmbeddings(model='text-embedding-3-large')\n",
    "\n",
    "# openai embedding 모델은 vector 길이가 3072"
   ]
  },
  {
   "cell_type": "code",
   "execution_count": 5,
   "metadata": {},
   "outputs": [],
   "source": [
    "# 쪼개놓은 document_list를 Embedding을 활용해서 VectorDB에 저장\n",
    "from langchain_chroma import Chroma\n",
    "\n",
    "# 데이터를 처음 저장할 때 \n",
    "database = Chroma.from_documents(documents=document_list, embedding=embedding, collection_name='chroma-tax', persist_directory=\"./chroma\")\n",
    "\n",
    "# 이미 저장된 데이터를 사용할 때 \n",
    "# 이미 만들어놓은걸 쓸 때\n",
    "# database = Chroma(collection_name='chroma-tax', persist_directory=\"./chroma\", embedding_function=embedding)\n",
    "\n",
    "# Chroma는 기본적으로 in memory라서 파일을 끄면 다 날아감 -> persist_directory 설정\n",
    "# collection_name은 일반 rdb의 테이블 네임에 해당\n",
    "\n",
    "\n",
    "# 아래는 Chroma 대신 Pinecone 쓸 때\n",
    "# import os\n",
    "\n",
    "# from pinecone import Pinecone\n",
    "# from langchain_pinecone import PineconeVectorStore\n",
    "\n",
    "# index_name = 'tax-index'\n",
    "# pinecone_api_key = os.environ.get(\"PINECONE_API_KEY\")\n",
    "# pc = Pinecone(api_key=pinecone_api_key)\n",
    "\n",
    "\n",
    "# database = PineconeVectorStore.from_documents(document_list, embedding, index_name=index_name)"
   ]
  },
  {
   "cell_type": "markdown",
   "metadata": {},
   "source": [
    "# 3. 답변 생성을 위한 Retrieval\n",
    "\n",
    "- `Chroma`에 저장한 데이터를 유사도 검색(`similarity_search()`)를 활용해서 가져옴"
   ]
  },
  {
   "cell_type": "code",
   "execution_count": 6,
   "metadata": {},
   "outputs": [
    {
     "data": {
      "text/plain": [
       "<langchain_chroma.vectorstores.Chroma at 0x122566410>"
      ]
     },
     "execution_count": 6,
     "metadata": {},
     "output_type": "execute_result"
    }
   ],
   "source": [
    "database"
   ]
  },
  {
   "cell_type": "code",
   "execution_count": 7,
   "metadata": {},
   "outputs": [],
   "source": [
    "# 위에서 만든 DataDB에 query를 날릴 수 있음(검색)\n",
    "# DB를 생성할 때 embedding을 넣었음. 이 embedding을 활용해서 알아서 뒷단에서 유사도 검색을해서 답변을 가져옴\n",
    "query = '연봉 5천만원인 직장인의 소득세는 얼마인가요?'\n",
    "\n",
    "# `k` 값을 조절해서 얼마나 많은 데이터를 불러올지 결정\n",
    "retrieved_docs = database.similarity_search(query, k=3) # similarity_search()는 유사도검색"
   ]
  },
  {
   "cell_type": "code",
   "execution_count": 8,
   "metadata": {},
   "outputs": [
    {
     "data": {
      "text/plain": [
       "[Document(id='53946762-a1cb-4dc1-90fb-104090c274bd', metadata={'source': './tax_docs/tax_with_table.docx'}, page_content='나. 그 밖의 배당소득에 대해서는 100분의 14\\n\\n3. 원천징수대상 사업소득에 대해서는 100분의 3. 다만, 외국인 직업운동가가 한국표준산업분류에 따른 스포츠 클럽 운영업 중 프로스포츠구단과의 계약(계약기간이 3년 이하인 경우로 한정한다)에 따라 용역을 제공하고 받는 소득에 대해서는 100분의 20으로 한다.\\n\\n4. 근로소득에 대해서는 기본세율. 다만, 일용근로자의 근로소득에 대해서는 100분의 6으로 한다.\\n\\n5. 공적연금소득에 대해서는 기본세율\\n\\n5의2.제20조의3제1항제2호나목 및 다목에 따른 연금계좌 납입액이나 운용실적에 따라 증가된 금액을 연금수령한 연금소득에 대해서는 다음 각 목의 구분에 따른 세율. 이 경우 각 목의 요건을 동시에 충족하는 때에는 낮은 세율을 적용한다.\\n\\n가. 연금소득자의 나이에 따른 다음의 세율\\n\\n\\n\\n나. 삭제<2014. 12. 23.>\\n\\n다. 사망할 때까지 연금수령하는 대통령령으로 정하는 종신계약에 따라 받는 연금소득에 대해서는 100분의 4\\n\\n5의3. 제20조의3제1항제2호가목에 따라 퇴직소득을 연금수령하는 연금소득에 대해서는 다음 각 목의 구분에 따른 세율. 이 경우 연금 실제 수령연차 및 연금외수령 원천징수세율의 구체적인 내용은 대통령령으로 정한다.\\n\\n가. 연금 실제 수령연차가 10년 이하인 경우: 연금외수령 원천징수세율의 100분의 70\\n\\n나. 연금 실제 수령연차가 10년을 초과하는 경우: 연금외수령 원천징수세율의 100분의 60\\n\\n6. 기타소득에 대해서는 다음에 규정하는 세율. 다만, 제8호를 적용받는 경우는 제외한다.\\n\\n가. 제14조제3항제8호라목 및 마목에 해당하는 소득금액이 3억원을 초과하는 경우 그 초과하는 분에 대해서는 100분의 30\\n\\n나. 제21조제1항제18호 및 제21호에 따른 기타소득에 대해서는 100분의 15\\n\\n다. 삭제<2014. 12. 23.>\\n\\n라. 그 밖의 기타소득에 대해서는 100분의 20\\n\\n7. 퇴직소득에 대해서는 기본세율\\n\\n8. 대통령령으로 정하는 봉사료에 대해서는 100분의 5\\n\\n9. 대통령령으로 정하는 금융투자소득에 대해서는 100분의 20\\n\\n② 제1항에도 불구하고 다음 각 호의 이자소득 및 배당소득에 대해서는 다음 각 호에서 정하는 세율을 원천징수세율로 한다.<개정 2013. 1. 1., 2017. 12. 19., 2018. 12. 31., 2022. 12. 31.>\\n\\n1. 「민사집행법」 제113조 및 같은 법 제142조에 따라 법원에 납부한 보증금 및 경락대금에서 발생하는 이자소득에 대해서는 100분의 14\\n\\n2. 대통령령으로 정하는 실지명의가 확인되지 아니하는 소득에 대해서는 100분의 45. 다만, 「금융실명거래 및 비밀보장에 관한 법률」 제5조가 적용되는 경우에는 같은 조에서 정한 세율로 한다.'),\n",
       " Document(id='95774184-bf94-4cc2-926c-23aa68b06352', metadata={'source': './tax_docs/tax_with_table.docx'}, page_content='나. 그 밖의 배당소득에 대해서는 100분의 14\\n\\n3. 원천징수대상 사업소득에 대해서는 100분의 3. 다만, 외국인 직업운동가가 한국표준산업분류에 따른 스포츠 클럽 운영업 중 프로스포츠구단과의 계약(계약기간이 3년 이하인 경우로 한정한다)에 따라 용역을 제공하고 받는 소득에 대해서는 100분의 20으로 한다.\\n\\n4. 근로소득에 대해서는 기본세율. 다만, 일용근로자의 근로소득에 대해서는 100분의 6으로 한다.\\n\\n5. 공적연금소득에 대해서는 기본세율\\n\\n5의2.제20조의3제1항제2호나목 및 다목에 따른 연금계좌 납입액이나 운용실적에 따라 증가된 금액을 연금수령한 연금소득에 대해서는 다음 각 목의 구분에 따른 세율. 이 경우 각 목의 요건을 동시에 충족하는 때에는 낮은 세율을 적용한다.\\n\\n가. 연금소득자의 나이에 따른 다음의 세율\\n\\n\\n\\n나. 삭제<2014. 12. 23.>\\n\\n다. 사망할 때까지 연금수령하는 대통령령으로 정하는 종신계약에 따라 받는 연금소득에 대해서는 100분의 4\\n\\n5의3. 제20조의3제1항제2호가목에 따라 퇴직소득을 연금수령하는 연금소득에 대해서는 다음 각 목의 구분에 따른 세율. 이 경우 연금 실제 수령연차 및 연금외수령 원천징수세율의 구체적인 내용은 대통령령으로 정한다.\\n\\n가. 연금 실제 수령연차가 10년 이하인 경우: 연금외수령 원천징수세율의 100분의 70\\n\\n나. 연금 실제 수령연차가 10년을 초과하는 경우: 연금외수령 원천징수세율의 100분의 60\\n\\n6. 기타소득에 대해서는 다음에 규정하는 세율. 다만, 제8호를 적용받는 경우는 제외한다.\\n\\n가. 제14조제3항제8호라목 및 마목에 해당하는 소득금액이 3억원을 초과하는 경우 그 초과하는 분에 대해서는 100분의 30\\n\\n나. 제21조제1항제18호 및 제21호에 따른 기타소득에 대해서는 100분의 15\\n\\n다. 삭제<2014. 12. 23.>\\n\\n라. 그 밖의 기타소득에 대해서는 100분의 20\\n\\n7. 퇴직소득에 대해서는 기본세율\\n\\n8. 대통령령으로 정하는 봉사료에 대해서는 100분의 5\\n\\n9. 대통령령으로 정하는 금융투자소득에 대해서는 100분의 20\\n\\n② 제1항에도 불구하고 다음 각 호의 이자소득 및 배당소득에 대해서는 다음 각 호에서 정하는 세율을 원천징수세율로 한다.<개정 2013. 1. 1., 2017. 12. 19., 2018. 12. 31., 2022. 12. 31.>\\n\\n1. 「민사집행법」 제113조 및 같은 법 제142조에 따라 법원에 납부한 보증금 및 경락대금에서 발생하는 이자소득에 대해서는 100분의 14\\n\\n2. 대통령령으로 정하는 실지명의가 확인되지 아니하는 소득에 대해서는 100분의 45. 다만, 「금융실명거래 및 비밀보장에 관한 법률」 제5조가 적용되는 경우에는 같은 조에서 정한 세율로 한다.'),\n",
       " Document(id='38094266-7781-48ac-a889-e7776fb5b7a3', metadata={'source': './tax_docs/tax_with_table.docx'}, page_content='나. 그 밖의 배당소득에 대해서는 100분의 14\\n\\n3. 원천징수대상 사업소득에 대해서는 100분의 3. 다만, 외국인 직업운동가가 한국표준산업분류에 따른 스포츠 클럽 운영업 중 프로스포츠구단과의 계약(계약기간이 3년 이하인 경우로 한정한다)에 따라 용역을 제공하고 받는 소득에 대해서는 100분의 20으로 한다.\\n\\n4. 근로소득에 대해서는 기본세율. 다만, 일용근로자의 근로소득에 대해서는 100분의 6으로 한다.\\n\\n5. 공적연금소득에 대해서는 기본세율\\n\\n5의2.제20조의3제1항제2호나목 및 다목에 따른 연금계좌 납입액이나 운용실적에 따라 증가된 금액을 연금수령한 연금소득에 대해서는 다음 각 목의 구분에 따른 세율. 이 경우 각 목의 요건을 동시에 충족하는 때에는 낮은 세율을 적용한다.\\n\\n가. 연금소득자의 나이에 따른 다음의 세율\\n\\n\\n\\n나. 삭제<2014. 12. 23.>\\n\\n다. 사망할 때까지 연금수령하는 대통령령으로 정하는 종신계약에 따라 받는 연금소득에 대해서는 100분의 4\\n\\n5의3. 제20조의3제1항제2호가목에 따라 퇴직소득을 연금수령하는 연금소득에 대해서는 다음 각 목의 구분에 따른 세율. 이 경우 연금 실제 수령연차 및 연금외수령 원천징수세율의 구체적인 내용은 대통령령으로 정한다.\\n\\n가. 연금 실제 수령연차가 10년 이하인 경우: 연금외수령 원천징수세율의 100분의 70\\n\\n나. 연금 실제 수령연차가 10년을 초과하는 경우: 연금외수령 원천징수세율의 100분의 60\\n\\n6. 기타소득에 대해서는 다음에 규정하는 세율. 다만, 제8호를 적용받는 경우는 제외한다.\\n\\n가. 제14조제3항제8호라목 및 마목에 해당하는 소득금액이 3억원을 초과하는 경우 그 초과하는 분에 대해서는 100분의 30\\n\\n나. 제21조제1항제18호 및 제21호에 따른 기타소득에 대해서는 100분의 15\\n\\n다. 삭제<2014. 12. 23.>\\n\\n라. 그 밖의 기타소득에 대해서는 100분의 20\\n\\n7. 퇴직소득에 대해서는 기본세율\\n\\n8. 대통령령으로 정하는 봉사료에 대해서는 100분의 5\\n\\n9. 대통령령으로 정하는 금융투자소득에 대해서는 100분의 20\\n\\n② 제1항에도 불구하고 다음 각 호의 이자소득 및 배당소득에 대해서는 다음 각 호에서 정하는 세율을 원천징수세율로 한다.<개정 2013. 1. 1., 2017. 12. 19., 2018. 12. 31., 2022. 12. 31.>\\n\\n1. 「민사집행법」 제113조 및 같은 법 제142조에 따라 법원에 납부한 보증금 및 경락대금에서 발생하는 이자소득에 대해서는 100분의 14\\n\\n2. 대통령령으로 정하는 실지명의가 확인되지 아니하는 소득에 대해서는 100분의 45. 다만, 「금융실명거래 및 비밀보장에 관한 법률」 제5조가 적용되는 경우에는 같은 조에서 정한 세율로 한다.')]"
      ]
     },
     "execution_count": 8,
     "metadata": {},
     "output_type": "execute_result"
    }
   ],
   "source": [
    "retrieved_docs"
   ]
  },
  {
   "cell_type": "markdown",
   "metadata": {},
   "source": [
    "# 4. Augmentation을 위한 Prompt 활용\n",
    "\n",
    "- Retrieval된 데이터는 LangChain에서 제공하는 프롬프트(`\"rlm/rag-prompt\"`) 사용"
   ]
  },
  {
   "cell_type": "code",
   "execution_count": 9,
   "metadata": {},
   "outputs": [],
   "source": [
    "# 문서를 가져왔으니 이제 LLM에 질의를 함\n",
    "from langchain_openai import ChatOpenAI\n",
    "\n",
    "llm = ChatOpenAI(model='gpt-4o-mini')"
   ]
  },
  {
   "cell_type": "code",
   "execution_count": 10,
   "metadata": {},
   "outputs": [],
   "source": [
    "# 문서도 같이 줘야하므로 prompt를 짜야함\n",
    "\n",
    "prompt = f\"\"\"[Identity]\n",
    " - 당신은 최고의 한국 소득세 전문가입니다\n",
    " - [Context]를 참고해서 사용자의 질문에 답변해주세요\n",
    "\n",
    " [Context]\n",
    " {retrieved_docs}\n",
    "\n",
    " [Question]\n",
    " {query}\n",
    "\"\"\""
   ]
  },
  {
   "cell_type": "code",
   "execution_count": 11,
   "metadata": {},
   "outputs": [],
   "source": [
    "ai_message = llm.invoke(prompt)"
   ]
  },
  {
   "cell_type": "code",
   "execution_count": 12,
   "metadata": {},
   "outputs": [
    {
     "data": {
      "text/plain": [
       "'연봉 5천만 원인 직장인의 소득세를 계산하기 위해서는 기본세율이 적용됩니다. 한국의 소득세는 누진세 구조로 되어 있기 때문에, 연봉에 따라 세율이 다르게 적용됩니다.\\n\\n가장 먼저, 연봉 5천만 원의 경우, 2023년 기준으로 소득세를 계산하기 위한 과세표준 구간에 해당하는 세율은 다음과 같습니다.\\n\\n1. 2천만 원 이하: 6%\\n2. 2천만 원 초과 4천만 원 이하: 15%\\n3. 4천만 원 초과 8천만 원 이하: 24%\\n\\n이제 연봉 5천만 원에 대한 세액을 계산해보겠습니다.\\n\\n1. **첫 2천만 원에 대한 세액**:  \\n\\\\[ 2,000,000 \\\\times 0.06 = 120,000 \\\\text{ 원} \\\\]\\n\\n2. **다음 2천만 원에 대한 세액**:  \\n\\\\[ 2,000,000 \\\\times 0.15 = 300,000 \\\\text{ 원} \\\\]\\n\\n3. **4천만 원 초과 5천만 원에 대한 세액**:  \\n\\\\[ 1,000,000 \\\\times 0.24 = 240,000 \\\\text{ 원} \\\\]\\n\\n위의 세액을 모두 합산하면, 총 소득세는 다음과 같습니다.  \\n\\\\[ 120,000 + 300,000 + 240,000 = 660,000 \\\\text{ 원} \\\\]\\n\\n따라서, 연봉 5천만 원인 직장인의 소득세는 약 660,000원입니다. 이는 세액공제나 기타 사항을 반영하지 않은 단순 계산입니다. 실제 소득세는 다양한 공제 항목에 따라 달라질 수 있습니다.'"
      ]
     },
     "execution_count": 12,
     "metadata": {},
     "output_type": "execute_result"
    }
   ],
   "source": [
    "ai_message.content"
   ]
  },
  {
   "cell_type": "markdown",
   "metadata": {},
   "source": [
    "'연봉 5천만원인 직장인의 소득세를 계산하기 위해서는 기본세율을 적용해야 합니다. \\n\\n2023년 현재 한국 소득세의 기본세율은 다음과 같습니다:\\n\\n- 1,200만원 이하: 6%\\n- 1,200만원 초과 ~ 4,600만원 이하: 15%\\n- 4,600만원 초과 ~ 8,800만원 이하: 24%\\n\\n연봉 5천만원은 1,200만원을 초과하고 4,600만원에 해당하므로, 세금 계산은 다음과 같이 진행됩니다:\\n\\n1. 1,200만원에 대한 세금: 1,200만원 × 6% = 72만원\\n2. 1,200만원 초과 부분 (4,600만원까지)에 대한 세금: (4,600만원 - 1,200만원) × 15% = 3,400만원 × 15% = 510만원\\n\\n따라서 소득세 총액은 다음과 같습니다:\\n\\n- 총 세금 = 72만원 + 510만원 = 582만원\\n\\n그러므로 연봉 5천만원인 직장인의 소득세는 약 582만원입니다. \\n\\n세액 공제나 다른 추가 요인에 따라 최종 세액이 달라질 수 있으니 참고하시기 바랍니다.'"
   ]
  },
  {
   "cell_type": "markdown",
   "metadata": {},
   "source": [
    "# 5. 답변 생성\n",
    "\n",
    "- [RetrievalQA](https://docs.smith.langchain.com/old/cookbook/hub-examples/retrieval-qa-chain)를 통해 LLM에 전달\n",
    "    - `RetrievalQA`는 [create_retrieval_chain](https://python.langchain.com/v0.2/docs/how_to/qa_sources/#using-create_retrieval_chain)으로 대체됨\n",
    "    - 실제 ChatBot 구현 시 `create_retrieval_chain`으로 변경하는 과정을 볼 수 있음"
   ]
  },
  {
   "cell_type": "code",
   "execution_count": 13,
   "metadata": {},
   "outputs": [
    {
     "name": "stdout",
     "output_type": "stream",
     "text": [
      "\n",
      "\u001b[1m[\u001b[0m\u001b[34;49mnotice\u001b[0m\u001b[1;39;49m]\u001b[0m\u001b[39;49m A new release of pip is available: \u001b[0m\u001b[31;49m24.0\u001b[0m\u001b[39;49m -> \u001b[0m\u001b[32;49m25.1.1\u001b[0m\n",
      "\u001b[1m[\u001b[0m\u001b[34;49mnotice\u001b[0m\u001b[1;39;49m]\u001b[0m\u001b[39;49m To update, run: \u001b[0m\u001b[32;49mpip install --upgrade pip\u001b[0m\n",
      "Note: you may need to restart the kernel to use updated packages.\n"
     ]
    }
   ],
   "source": [
    "# langchain은 chain이므로 연결이 됨\n",
    "# Retrieval를 좀 더 효과적으로 할 수 있음\n",
    "# RetrievalQAChain 이란걸 쓸 것임 -> Retrieval한 다음에 QA할거다 라는 뜻\n",
    "# 제일 큰 이점: 프롬프트를 많이 줌\n",
    "\n",
    "%pip install -U langchain langchainhub --quiet"
   ]
  },
  {
   "cell_type": "code",
   "execution_count": 14,
   "metadata": {},
   "outputs": [
    {
     "name": "stderr",
     "output_type": "stream",
     "text": [
      "/Users/kyutae/.pyenv/versions/3.11.9/envs/RAG_p311/lib/python3.11/site-packages/langsmith/client.py:272: LangSmithMissingAPIKeyWarning: API key must be provided when using hosted LangSmith API\n",
      "  warnings.warn(\n"
     ]
    },
    {
     "data": {
      "text/plain": [
       "ChatPromptTemplate(input_variables=['context', 'question'], input_types={}, partial_variables={}, metadata={'lc_hub_owner': 'rlm', 'lc_hub_repo': 'rag-prompt', 'lc_hub_commit_hash': '50442af133e61576e74536c6556cefe1fac147cad032f4377b60c436e6cdcb6e'}, messages=[HumanMessagePromptTemplate(prompt=PromptTemplate(input_variables=['context', 'question'], input_types={}, partial_variables={}, template=\"You are an assistant for question-answering tasks. Use the following pieces of retrieved context to answer the question. If you don't know the answer, just say that you don't know. Use three sentences maximum and keep the answer concise.\\nQuestion: {question} \\nContext: {context} \\nAnswer:\"), additional_kwargs={})])"
      ]
     },
     "execution_count": 14,
     "metadata": {},
     "output_type": "execute_result"
    }
   ],
   "source": [
    "from langchain import hub\n",
    "\n",
    "prompt = hub.pull(\"rlm/rag-prompt\")\n",
    "prompt"
   ]
  },
  {
   "cell_type": "markdown",
   "metadata": {},
   "source": [
    "### prompt를 자세히보면 페르소나도 주고 retrived context를 사용해서 답변하란 내용도 포함돼있음\n",
    "\n",
    "ChatPromptTemplate(input_variables=['context', 'question'], input_types={}, partial_variables={}, metadata={'lc_hub_owner': 'rlm', 'lc_hub_repo': 'rag-prompt', 'lc_hub_commit_hash': '50442af133e61576e74536c6556cefe1fac147cad032f4377b60c436e6cdcb6e'}, messages=[HumanMessagePromptTemplate(prompt=PromptTemplate(input_variables=['context', 'question'], input_types={}, partial_variables={}, template=\"You are an assistant for question-answering tasks. Use the following pieces of retrieved context to answer the question. If you don't know the answer, just say that you don't know. Use three sentences maximum and keep the answer concise.\\nQuestion: {question} \\nContext: {context} \\nAnswer:\"), additional_kwargs={})])\n"
   ]
  },
  {
   "cell_type": "code",
   "execution_count": 16,
   "metadata": {},
   "outputs": [],
   "source": [
    "from langchain.chains import RetrievalQA\n",
    "\n",
    "qa_chain = RetrievalQA.from_chain_type(\n",
    "    llm, \n",
    "    retriever=database.as_retriever(),\n",
    "    chain_type_kwargs={\"prompt\": prompt}\n",
    ")\n",
    "# as_retriever는 chroma에만 있는게 아니고\n",
    "# pinecone, azure 등 다양한 vector database에 다 쓸 수 있음"
   ]
  },
  {
   "cell_type": "code",
   "execution_count": 17,
   "metadata": {},
   "outputs": [
    {
     "data": {
      "text/plain": [
       "[Document(id='53946762-a1cb-4dc1-90fb-104090c274bd', metadata={'source': './tax_docs/tax_with_table.docx'}, page_content='나. 그 밖의 배당소득에 대해서는 100분의 14\\n\\n3. 원천징수대상 사업소득에 대해서는 100분의 3. 다만, 외국인 직업운동가가 한국표준산업분류에 따른 스포츠 클럽 운영업 중 프로스포츠구단과의 계약(계약기간이 3년 이하인 경우로 한정한다)에 따라 용역을 제공하고 받는 소득에 대해서는 100분의 20으로 한다.\\n\\n4. 근로소득에 대해서는 기본세율. 다만, 일용근로자의 근로소득에 대해서는 100분의 6으로 한다.\\n\\n5. 공적연금소득에 대해서는 기본세율\\n\\n5의2.제20조의3제1항제2호나목 및 다목에 따른 연금계좌 납입액이나 운용실적에 따라 증가된 금액을 연금수령한 연금소득에 대해서는 다음 각 목의 구분에 따른 세율. 이 경우 각 목의 요건을 동시에 충족하는 때에는 낮은 세율을 적용한다.\\n\\n가. 연금소득자의 나이에 따른 다음의 세율\\n\\n\\n\\n나. 삭제<2014. 12. 23.>\\n\\n다. 사망할 때까지 연금수령하는 대통령령으로 정하는 종신계약에 따라 받는 연금소득에 대해서는 100분의 4\\n\\n5의3. 제20조의3제1항제2호가목에 따라 퇴직소득을 연금수령하는 연금소득에 대해서는 다음 각 목의 구분에 따른 세율. 이 경우 연금 실제 수령연차 및 연금외수령 원천징수세율의 구체적인 내용은 대통령령으로 정한다.\\n\\n가. 연금 실제 수령연차가 10년 이하인 경우: 연금외수령 원천징수세율의 100분의 70\\n\\n나. 연금 실제 수령연차가 10년을 초과하는 경우: 연금외수령 원천징수세율의 100분의 60\\n\\n6. 기타소득에 대해서는 다음에 규정하는 세율. 다만, 제8호를 적용받는 경우는 제외한다.\\n\\n가. 제14조제3항제8호라목 및 마목에 해당하는 소득금액이 3억원을 초과하는 경우 그 초과하는 분에 대해서는 100분의 30\\n\\n나. 제21조제1항제18호 및 제21호에 따른 기타소득에 대해서는 100분의 15\\n\\n다. 삭제<2014. 12. 23.>\\n\\n라. 그 밖의 기타소득에 대해서는 100분의 20\\n\\n7. 퇴직소득에 대해서는 기본세율\\n\\n8. 대통령령으로 정하는 봉사료에 대해서는 100분의 5\\n\\n9. 대통령령으로 정하는 금융투자소득에 대해서는 100분의 20\\n\\n② 제1항에도 불구하고 다음 각 호의 이자소득 및 배당소득에 대해서는 다음 각 호에서 정하는 세율을 원천징수세율로 한다.<개정 2013. 1. 1., 2017. 12. 19., 2018. 12. 31., 2022. 12. 31.>\\n\\n1. 「민사집행법」 제113조 및 같은 법 제142조에 따라 법원에 납부한 보증금 및 경락대금에서 발생하는 이자소득에 대해서는 100분의 14\\n\\n2. 대통령령으로 정하는 실지명의가 확인되지 아니하는 소득에 대해서는 100분의 45. 다만, 「금융실명거래 및 비밀보장에 관한 법률」 제5조가 적용되는 경우에는 같은 조에서 정한 세율로 한다.'),\n",
       " Document(id='38094266-7781-48ac-a889-e7776fb5b7a3', metadata={'source': './tax_docs/tax_with_table.docx'}, page_content='나. 그 밖의 배당소득에 대해서는 100분의 14\\n\\n3. 원천징수대상 사업소득에 대해서는 100분의 3. 다만, 외국인 직업운동가가 한국표준산업분류에 따른 스포츠 클럽 운영업 중 프로스포츠구단과의 계약(계약기간이 3년 이하인 경우로 한정한다)에 따라 용역을 제공하고 받는 소득에 대해서는 100분의 20으로 한다.\\n\\n4. 근로소득에 대해서는 기본세율. 다만, 일용근로자의 근로소득에 대해서는 100분의 6으로 한다.\\n\\n5. 공적연금소득에 대해서는 기본세율\\n\\n5의2.제20조의3제1항제2호나목 및 다목에 따른 연금계좌 납입액이나 운용실적에 따라 증가된 금액을 연금수령한 연금소득에 대해서는 다음 각 목의 구분에 따른 세율. 이 경우 각 목의 요건을 동시에 충족하는 때에는 낮은 세율을 적용한다.\\n\\n가. 연금소득자의 나이에 따른 다음의 세율\\n\\n\\n\\n나. 삭제<2014. 12. 23.>\\n\\n다. 사망할 때까지 연금수령하는 대통령령으로 정하는 종신계약에 따라 받는 연금소득에 대해서는 100분의 4\\n\\n5의3. 제20조의3제1항제2호가목에 따라 퇴직소득을 연금수령하는 연금소득에 대해서는 다음 각 목의 구분에 따른 세율. 이 경우 연금 실제 수령연차 및 연금외수령 원천징수세율의 구체적인 내용은 대통령령으로 정한다.\\n\\n가. 연금 실제 수령연차가 10년 이하인 경우: 연금외수령 원천징수세율의 100분의 70\\n\\n나. 연금 실제 수령연차가 10년을 초과하는 경우: 연금외수령 원천징수세율의 100분의 60\\n\\n6. 기타소득에 대해서는 다음에 규정하는 세율. 다만, 제8호를 적용받는 경우는 제외한다.\\n\\n가. 제14조제3항제8호라목 및 마목에 해당하는 소득금액이 3억원을 초과하는 경우 그 초과하는 분에 대해서는 100분의 30\\n\\n나. 제21조제1항제18호 및 제21호에 따른 기타소득에 대해서는 100분의 15\\n\\n다. 삭제<2014. 12. 23.>\\n\\n라. 그 밖의 기타소득에 대해서는 100분의 20\\n\\n7. 퇴직소득에 대해서는 기본세율\\n\\n8. 대통령령으로 정하는 봉사료에 대해서는 100분의 5\\n\\n9. 대통령령으로 정하는 금융투자소득에 대해서는 100분의 20\\n\\n② 제1항에도 불구하고 다음 각 호의 이자소득 및 배당소득에 대해서는 다음 각 호에서 정하는 세율을 원천징수세율로 한다.<개정 2013. 1. 1., 2017. 12. 19., 2018. 12. 31., 2022. 12. 31.>\\n\\n1. 「민사집행법」 제113조 및 같은 법 제142조에 따라 법원에 납부한 보증금 및 경락대금에서 발생하는 이자소득에 대해서는 100분의 14\\n\\n2. 대통령령으로 정하는 실지명의가 확인되지 아니하는 소득에 대해서는 100분의 45. 다만, 「금융실명거래 및 비밀보장에 관한 법률」 제5조가 적용되는 경우에는 같은 조에서 정한 세율로 한다.'),\n",
       " Document(id='20513208-0496-41a7-8f3b-d5399aed010a', metadata={'source': './tax_docs/tax_with_markdown.docx'}, page_content='나. 그 밖의 배당소득에 대해서는 100분의 14\\n\\n3. 원천징수대상 사업소득에 대해서는 100분의 3. 다만, 외국인 직업운동가가 한국표준산업분류에 따른 스포츠 클럽 운영업 중 프로스포츠구단과의 계약(계약기간이 3년 이하인 경우로 한정한다)에 따라 용역을 제공하고 받는 소득에 대해서는 100분의 20으로 한다.\\n\\n4. 근로소득에 대해서는 기본세율. 다만, 일용근로자의 근로소득에 대해서는 100분의 6으로 한다.\\n\\n5. 공적연금소득에 대해서는 기본세율\\n\\n5의2.제20조의3제1항제2호나목 및 다목에 따른 연금계좌 납입액이나 운용실적에 따라 증가된 금액을 연금수령한 연금소득에 대해서는 다음 각 목의 구분에 따른 세율. 이 경우 각 목의 요건을 동시에 충족하는 때에는 낮은 세율을 적용한다.\\n\\n가. 연금소득자의 나이에 따른 다음의 세율\\n\\n\\n\\n나. 삭제<2014. 12. 23.>\\n\\n다. 사망할 때까지 연금수령하는 대통령령으로 정하는 종신계약에 따라 받는 연금소득에 대해서는 100분의 4\\n\\n5의3. 제20조의3제1항제2호가목에 따라 퇴직소득을 연금수령하는 연금소득에 대해서는 다음 각 목의 구분에 따른 세율. 이 경우 연금 실제 수령연차 및 연금외수령 원천징수세율의 구체적인 내용은 대통령령으로 정한다.\\n\\n가. 연금 실제 수령연차가 10년 이하인 경우: 연금외수령 원천징수세율의 100분의 70\\n\\n나. 연금 실제 수령연차가 10년을 초과하는 경우: 연금외수령 원천징수세율의 100분의 60\\n\\n6. 기타소득에 대해서는 다음에 규정하는 세율. 다만, 제8호를 적용받는 경우는 제외한다.\\n\\n가. 제14조제3항제8호라목 및 마목에 해당하는 소득금액이 3억원을 초과하는 경우 그 초과하는 분에 대해서는 100분의 30\\n\\n나. 제21조제1항제18호 및 제21호에 따른 기타소득에 대해서는 100분의 15\\n\\n다. 삭제<2014. 12. 23.>\\n\\n라. 그 밖의 기타소득에 대해서는 100분의 20\\n\\n7. 퇴직소득에 대해서는 기본세율\\n\\n8. 대통령령으로 정하는 봉사료에 대해서는 100분의 5\\n\\n9. 대통령령으로 정하는 금융투자소득에 대해서는 100분의 20\\n\\n② 제1항에도 불구하고 다음 각 호의 이자소득 및 배당소득에 대해서는 다음 각 호에서 정하는 세율을 원천징수세율로 한다.<개정 2013. 1. 1., 2017. 12. 19., 2018. 12. 31., 2022. 12. 31.>\\n\\n1. 「민사집행법」 제113조 및 같은 법 제142조에 따라 법원에 납부한 보증금 및 경락대금에서 발생하는 이자소득에 대해서는 100분의 14\\n\\n2. 대통령령으로 정하는 실지명의가 확인되지 아니하는 소득에 대해서는 100분의 45. 다만, 「금융실명거래 및 비밀보장에 관한 법률」 제5조가 적용되는 경우에는 같은 조에서 정한 세율로 한다.'),\n",
       " Document(id='b288f6fa-51ad-40ca-81a2-4366c84dbbaf', metadata={'source': './tax_docs/tax_with_markdown.docx'}, page_content='나. 그 밖의 배당소득에 대해서는 100분의 14\\n\\n3. 원천징수대상 사업소득에 대해서는 100분의 3. 다만, 외국인 직업운동가가 한국표준산업분류에 따른 스포츠 클럽 운영업 중 프로스포츠구단과의 계약(계약기간이 3년 이하인 경우로 한정한다)에 따라 용역을 제공하고 받는 소득에 대해서는 100분의 20으로 한다.\\n\\n4. 근로소득에 대해서는 기본세율. 다만, 일용근로자의 근로소득에 대해서는 100분의 6으로 한다.\\n\\n5. 공적연금소득에 대해서는 기본세율\\n\\n5의2.제20조의3제1항제2호나목 및 다목에 따른 연금계좌 납입액이나 운용실적에 따라 증가된 금액을 연금수령한 연금소득에 대해서는 다음 각 목의 구분에 따른 세율. 이 경우 각 목의 요건을 동시에 충족하는 때에는 낮은 세율을 적용한다.\\n\\n가. 연금소득자의 나이에 따른 다음의 세율\\n\\n\\n\\n나. 삭제<2014. 12. 23.>\\n\\n다. 사망할 때까지 연금수령하는 대통령령으로 정하는 종신계약에 따라 받는 연금소득에 대해서는 100분의 4\\n\\n5의3. 제20조의3제1항제2호가목에 따라 퇴직소득을 연금수령하는 연금소득에 대해서는 다음 각 목의 구분에 따른 세율. 이 경우 연금 실제 수령연차 및 연금외수령 원천징수세율의 구체적인 내용은 대통령령으로 정한다.\\n\\n가. 연금 실제 수령연차가 10년 이하인 경우: 연금외수령 원천징수세율의 100분의 70\\n\\n나. 연금 실제 수령연차가 10년을 초과하는 경우: 연금외수령 원천징수세율의 100분의 60\\n\\n6. 기타소득에 대해서는 다음에 규정하는 세율. 다만, 제8호를 적용받는 경우는 제외한다.\\n\\n가. 제14조제3항제8호라목 및 마목에 해당하는 소득금액이 3억원을 초과하는 경우 그 초과하는 분에 대해서는 100분의 30\\n\\n나. 제21조제1항제18호 및 제21호에 따른 기타소득에 대해서는 100분의 15\\n\\n다. 삭제<2014. 12. 23.>\\n\\n라. 그 밖의 기타소득에 대해서는 100분의 20\\n\\n7. 퇴직소득에 대해서는 기본세율\\n\\n8. 대통령령으로 정하는 봉사료에 대해서는 100분의 5\\n\\n9. 대통령령으로 정하는 금융투자소득에 대해서는 100분의 20\\n\\n② 제1항에도 불구하고 다음 각 호의 이자소득 및 배당소득에 대해서는 다음 각 호에서 정하는 세율을 원천징수세율로 한다.<개정 2013. 1. 1., 2017. 12. 19., 2018. 12. 31., 2022. 12. 31.>\\n\\n1. 「민사집행법」 제113조 및 같은 법 제142조에 따라 법원에 납부한 보증금 및 경락대금에서 발생하는 이자소득에 대해서는 100분의 14\\n\\n2. 대통령령으로 정하는 실지명의가 확인되지 아니하는 소득에 대해서는 100분의 45. 다만, 「금융실명거래 및 비밀보장에 관한 법률」 제5조가 적용되는 경우에는 같은 조에서 정한 세율로 한다.')]"
      ]
     },
     "execution_count": 17,
     "metadata": {},
     "output_type": "execute_result"
    }
   ],
   "source": [
    "retriever=database.as_retriever()\n",
    "retriever.invoke(query)"
   ]
  },
  {
   "cell_type": "code",
   "execution_count": 18,
   "metadata": {},
   "outputs": [
    {
     "name": "stderr",
     "output_type": "stream",
     "text": [
      "/var/folders/60/zbd68vt105n9svnq858jj8dc0000gn/T/ipykernel_34451/2125453911.py:1: LangChainDeprecationWarning: The method `Chain.__call__` was deprecated in langchain 0.1.0 and will be removed in 1.0. Use :meth:`~invoke` instead.\n",
      "  ai_message = qa_chain({\"query\": query})\n"
     ]
    },
    {
     "data": {
      "text/plain": [
       "{'query': '연봉 5천만원인 직장인의 소득세는 얼마인가요?',\n",
       " 'result': '연봉 5천만원인 직장인의 소득세는 해당하는 세율을 적용하여 계산해야 합니다. 근로소득에 대해서는 기본세율이 적용되며, 구체적인 세율 정보는 제공된 문맥에 포함되어 있지 않습니다. 따라서 정확한 소득세 금액은 알 수 없습니다.'}"
      ]
     },
     "execution_count": 18,
     "metadata": {},
     "output_type": "execute_result"
    }
   ],
   "source": [
    "ai_message = qa_chain({\"query\": query})\n",
    "ai_message"
   ]
  },
  {
   "cell_type": "code",
   "execution_count": 19,
   "metadata": {},
   "outputs": [],
   "source": [
    "# 기존 방식\n",
    "# 데이터 생성 -> docs를 가져옴(retrieved_docs) -> prompt를 짜서 -> llm에 invoke\n",
    "\n",
    "# qa chain을 사용하면\n",
    "# 뒷단에 알아서 데이터 들어가고(retriever=database.as_retriever())\n",
    "# 우리는 query만 주면 됨 "
   ]
  },
  {
   "cell_type": "markdown",
   "metadata": {},
   "source": [
    "# 6. Retrieval을 위한 keyword 사전 활용\n",
    "\n",
    "- Knowledge Base에서 사용되는 keyword를 활용하여 사용자 질문 수정\n",
    "- LangChain Expression Language (LCEL)을 활용한 Chain 연계"
   ]
  },
  {
   "cell_type": "code",
   "execution_count": 20,
   "metadata": {},
   "outputs": [],
   "source": [
    "from langchain_core.output_parsers import StrOutputParser\n",
    "from langchain_core.prompts import ChatPromptTemplate\n",
    "\n",
    "dictionary = [\"사람을 나타내는 표현 -> 거주자\"]\n",
    "\n",
    "prompt = ChatPromptTemplate.from_template(f\"\"\"\n",
    "    사용자의 질문을 보고, 우리의 사전을 참고해서 사용자의 질문을 변경해주세요.\n",
    "    만약 변경할 필요가 없다고 판단된다면, 사용자의 질문을 변경하지 않아도 됩니다.\n",
    "    그런 경우에는 질문만 리턴해주세요\n",
    "    사전: {dictionary}\n",
    "    \n",
    "    질문: {{question}}\n",
    "\"\"\")\n",
    "\n",
    "dictionary_chain = prompt | llm | StrOutputParser()\n",
    "tax_chain = {\"query\": dictionary_chain} | qa_chain"
   ]
  },
  {
   "cell_type": "code",
   "execution_count": 21,
   "metadata": {},
   "outputs": [],
   "source": [
    "new_question = dictionary_chain.invoke({\"question\": query})"
   ]
  },
  {
   "cell_type": "code",
   "execution_count": 22,
   "metadata": {},
   "outputs": [
    {
     "name": "stdout",
     "output_type": "stream",
     "text": [
      "연봉 5천만원인 직장인의 소득세는 얼마인가요?\n",
      "연봉 5천만원인 거주자의 소득세는 얼마인가요?\n"
     ]
    }
   ],
   "source": [
    "print(query)\n",
    "print(new_question)"
   ]
  },
  {
   "cell_type": "code",
   "execution_count": 23,
   "metadata": {},
   "outputs": [],
   "source": [
    "ai_response = tax_chain.invoke({\"question\": query})"
   ]
  },
  {
   "cell_type": "code",
   "execution_count": 24,
   "metadata": {},
   "outputs": [
    {
     "data": {
      "text/plain": [
       "{'query': '연봉 5천만원인 거주자의 소득세는 얼마인가요?',\n",
       " 'result': '연봉 5천만원인 거주자의 소득세는 84만원 + (1,400만원을 초과하는 금액의 15%)로 계산됩니다. 즉, 5천만원에서 1천400만원을 빼고 그 차액에 15%를 곱한 금액을 더하면 됩니다. 최종적으로 소득세는 84만원 + (3,600,000 원 * 0.15) = 84만원 + 540,000원 = 624,000원이 됩니다.'}"
      ]
     },
     "execution_count": 24,
     "metadata": {},
     "output_type": "execute_result"
    }
   ],
   "source": [
    "ai_response"
   ]
  },
  {
   "cell_type": "code",
   "execution_count": null,
   "metadata": {},
   "outputs": [],
   "source": []
  }
 ],
 "metadata": {
  "kernelspec": {
   "display_name": "RAG_p311",
   "language": "python",
   "name": "python3"
  },
  "language_info": {
   "codemirror_mode": {
    "name": "ipython",
    "version": 3
   },
   "file_extension": ".py",
   "mimetype": "text/x-python",
   "name": "python",
   "nbconvert_exporter": "python",
   "pygments_lexer": "ipython3",
   "version": "3.11.9"
  }
 },
 "nbformat": 4,
 "nbformat_minor": 2
}
