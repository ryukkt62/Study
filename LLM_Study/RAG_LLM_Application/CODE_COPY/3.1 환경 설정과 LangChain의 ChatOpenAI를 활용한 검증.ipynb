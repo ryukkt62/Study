{
 "cells": [
  {
   "cell_type": "code",
   "execution_count": 4,
   "metadata": {},
   "outputs": [
    {
     "data": {
      "text/plain": [
       "True"
      ]
     },
     "execution_count": 4,
     "metadata": {},
     "output_type": "execute_result"
    }
   ],
   "source": [
    "from dotenv import load_dotenv\n",
    "\n",
    "load_dotenv()"
   ]
  },
  {
   "cell_type": "code",
   "execution_count": 5,
   "metadata": {},
   "outputs": [],
   "source": [
    "from langchain_openai import ChatOpenAI\n",
    "\n",
    "llm = ChatOpenAI(model_name='gpt-4o-mini')"
   ]
  },
  {
   "cell_type": "code",
   "execution_count": 6,
   "metadata": {},
   "outputs": [],
   "source": [
    "ai_message = llm.invoke(\"인프런에 어떤 강의가 있나요?\")"
   ]
  },
  {
   "cell_type": "code",
   "execution_count": 7,
   "metadata": {},
   "outputs": [
    {
     "data": {
      "text/plain": [
       "'인프런은 다양한 IT 및 프로그래밍 관련 강의를 제공하는 온라인 교육 플랫폼입니다. 여기에는 다음과 같은 주제의 강의가 포함됩니다:\\n\\n1. **프로그래밍 언어**: Python, Java, JavaScript, C++, PHP 등 다양한 언어의 기초부터 심화 과정까지.\\n2. **웹 개발**: 프론트엔드(HTML, CSS, React, Vue.js 등)와 백엔드(Node.js, Django, Spring 등) 개발 관련 강의.\\n3. **모바일 개발**: Android, iOS 앱 개발 관련 강의.\\n4. **데이터 분석 및 머신러닝**: 데이터 분석, 통계, 머신러닝, 딥러닝 관련 강의.\\n5. **클라우드와 DevOps**: AWS, Azure, Docker, Kubernetes 등 클라우드 서비스와 DevOps 관련 과정.\\n6. **기타 기술**: UI/UX 디자인, 보안, 블록체인 등 최신 기술 관련 강의.\\n\\n각 강의는 초급자부터 전문가까지 다양한 수준을 아우르고 있으니, 자신에게 맞는 강의를 선택할 수 있습니다. 인프런 웹사이트를 방문하면 자세한 강의 내용을 확인할 수 있습니다.'"
      ]
     },
     "execution_count": 7,
     "metadata": {},
     "output_type": "execute_result"
    }
   ],
   "source": [
    "# text만 보고싶으면 content\n",
    "ai_message.content"
   ]
  },
  {
   "cell_type": "code",
   "execution_count": 9,
   "metadata": {},
   "outputs": [],
   "source": [
    "# OPENAI_API_KEY를 .dot파일에 저장해뒀기 때문에 자동으로 적용\n",
    "# 직접 보고싶으면 아래와 같이\n",
    "\n",
    "import os\n",
    "api_key = os.getenv(\"OPENAI_API_KEY\")\n",
    "llm = ChatOpenAI(api_key=api_key)"
   ]
  },
  {
   "cell_type": "code",
   "execution_count": 10,
   "metadata": {},
   "outputs": [],
   "source": [
    "ai_message = llm.invoke(\"인프런에 어떤 강의가 있나요?\")"
   ]
  },
  {
   "cell_type": "code",
   "execution_count": null,
   "metadata": {},
   "outputs": [],
   "source": []
  },
  {
   "cell_type": "code",
   "execution_count": null,
   "metadata": {},
   "outputs": [],
   "source": []
  }
 ],
 "metadata": {
  "kernelspec": {
   "display_name": "RAG_p311",
   "language": "python",
   "name": "python3"
  },
  "language_info": {
   "codemirror_mode": {
    "name": "ipython",
    "version": 3
   },
   "file_extension": ".py",
   "mimetype": "text/x-python",
   "name": "python",
   "nbconvert_exporter": "python",
   "pygments_lexer": "ipython3",
   "version": "3.11.9"
  }
 },
 "nbformat": 4,
 "nbformat_minor": 2
}
